{
  "metadata": {
    "kernelspec": {
      "language": "python",
      "display_name": "Python 3",
      "name": "python3"
    },
    "language_info": {
      "pygments_lexer": "ipython3",
      "nbconvert_exporter": "python",
      "version": "3.6.4",
      "file_extension": ".py",
      "codemirror_mode": {
        "name": "ipython",
        "version": 3
      },
      "name": "python",
      "mimetype": "text/x-python"
    },
    "colab": {
      "provenance": [],
      "machine_shape": "hm"
    },
    "accelerator": "GPU",
    "gpuClass": "premium"
  },
  "nbformat_minor": 0,
  "nbformat": 4,
  "cells": [
    {
      "cell_type": "code",
      "source": [
        "import numpy as np # linear algebra\n",
        "import pandas as pd # data processing, CSV file I/O (e.g. pd.read_csv)\n",
        "import matplotlib.pyplot as plt\n",
        "import seaborn as sns\n",
        "import os\n",
        "import torch\n",
        "from torch.utils.data import TensorDataset, random_split\n",
        "from torch.utils.data import DataLoader, RandomSampler, SequentialSampler\n",
        "import nltk\n",
        "import gensim\n",
        "import operator\n",
        "from sklearn.feature_extraction.text import CountVectorizer\n",
        "import re\n",
        "import textblob\n",
        "from keras.preprocessing.text import Tokenizer\n",
        "from keras_preprocessing.sequence import pad_sequences\n",
        "import torch.nn.functional as F\n",
        "\n",
        "\n",
        "\n",
        "\n",
        "from google.colab import drive\n",
        "drive.mount('/content/drive')\n",
        "device = 'cuda:0' if torch.cuda.is_available() else 'cpu'\n",
        "train = pd.read_csv('/content/drive/MyDrive/df_train.csv', sep=\",\")\n",
        "test = pd.read_csv('/content/drive/MyDrive/df_dev.csv', sep=\",\")\n"
      ],
      "metadata": {
        "_uuid": "8f2839f25d086af736a60e9eeb907d3b93b6e0e5",
        "_cell_guid": "b1076dfc-b9ad-4769-8c92-a6c4dae69d19",
        "execution": {
          "iopub.status.busy": "2021-07-09T06:17:53.913247Z",
          "iopub.execute_input": "2021-07-09T06:17:53.913652Z",
          "iopub.status.idle": "2021-07-09T06:17:55.491926Z",
          "shell.execute_reply.started": "2021-07-09T06:17:53.913571Z",
          "shell.execute_reply": "2021-07-09T06:17:55.490275Z"
        },
        "trusted": true,
        "id": "1_j6U-X87eoX",
        "colab": {
          "base_uri": "https://localhost:8080/"
        },
        "outputId": "6b7aeaaa-70e9-4bb0-b5ec-041fe36e9828"
      },
      "execution_count": 1,
      "outputs": [
        {
          "output_type": "stream",
          "name": "stdout",
          "text": [
            "Mounted at /content/drive\n"
          ]
        }
      ]
    },
    {
      "cell_type": "code",
      "source": [
        "def preprocess(phrases):\n",
        "  processed_phrases = []\n",
        "  for s in range(0, len(phrases)):\n",
        "    processed = re.sub(r'<.*?>', ' ', str(phrases[s]))\n",
        "    processed = re.sub(r'[^a-zA-Z0-9]',' ',processed)\n",
        "    processed = re.sub(r'\\s+', ' ', processed, flags=re.I)\n",
        "    processed = re.sub(r'\\w*\\d\\w*', '', processed)\n",
        "    processed = processed.lower()\n",
        "    processed_phrases.append(processed)\n",
        "  return processed_phrases\n"
      ],
      "metadata": {
        "id": "6XXIA5Hl8JmS"
      },
      "execution_count": 2,
      "outputs": []
    },
    {
      "cell_type": "code",
      "source": [
        "!wget -nc https://nlp.stanford.edu/data/glove.6B.zip\n",
        "!unzip glove.6B.zip\n",
        "!ls -lat"
      ],
      "metadata": {
        "execution": {
          "iopub.status.busy": "2021-07-09T06:18:57.595521Z",
          "iopub.execute_input": "2021-07-09T06:18:57.59601Z",
          "iopub.status.idle": "2021-07-09T06:20:04.237155Z",
          "shell.execute_reply.started": "2021-07-09T06:18:57.595972Z",
          "shell.execute_reply": "2021-07-09T06:20:04.236325Z"
        },
        "trusted": true,
        "id": "iIWgwW-d7eob",
        "colab": {
          "base_uri": "https://localhost:8080/"
        },
        "outputId": "450b73c1-8229-4164-ce7f-51721a7a4c23"
      },
      "execution_count": 3,
      "outputs": [
        {
          "output_type": "stream",
          "name": "stdout",
          "text": [
            "--2022-12-20 03:29:33--  https://nlp.stanford.edu/data/glove.6B.zip\n",
            "Resolving nlp.stanford.edu (nlp.stanford.edu)... 171.64.67.140\n",
            "Connecting to nlp.stanford.edu (nlp.stanford.edu)|171.64.67.140|:443... connected.\n",
            "HTTP request sent, awaiting response... 301 Moved Permanently\n",
            "Location: https://downloads.cs.stanford.edu/nlp/data/glove.6B.zip [following]\n",
            "--2022-12-20 03:29:33--  https://downloads.cs.stanford.edu/nlp/data/glove.6B.zip\n",
            "Resolving downloads.cs.stanford.edu (downloads.cs.stanford.edu)... 171.64.64.22\n",
            "Connecting to downloads.cs.stanford.edu (downloads.cs.stanford.edu)|171.64.64.22|:443... connected.\n",
            "HTTP request sent, awaiting response... 200 OK\n",
            "Length: 862182613 (822M) [application/zip]\n",
            "Saving to: ‘glove.6B.zip’\n",
            "\n",
            "glove.6B.zip        100%[===================>] 822.24M  5.02MB/s    in 2m 39s  \n",
            "\n",
            "2022-12-20 03:32:12 (5.18 MB/s) - ‘glove.6B.zip’ saved [862182613/862182613]\n",
            "\n",
            "Archive:  glove.6B.zip\n",
            "  inflating: glove.6B.50d.txt        \n",
            "  inflating: glove.6B.100d.txt       \n",
            "  inflating: glove.6B.200d.txt       \n",
            "  inflating: glove.6B.300d.txt       \n",
            "total 3039152\n",
            "drwxr-xr-x 1 root root       4096 Dec 20 03:32 .\n",
            "drwx------ 5 root root       4096 Dec 20 03:29 drive\n",
            "drwxr-xr-x 1 root root       4096 Dec 20 03:26 ..\n",
            "drwxr-xr-x 1 root root       4096 Dec 16 21:15 sample_data\n",
            "drwxr-xr-x 4 root root       4096 Dec 16 21:14 .config\n",
            "-rw-r--r-- 1 root root  862182613 Oct 25  2015 glove.6B.zip\n",
            "-rw-rw-r-- 1 root root 1037962819 Aug 27  2014 glove.6B.300d.txt\n",
            "-rw-rw-r-- 1 root root  171350079 Aug  4  2014 glove.6B.50d.txt\n",
            "-rw-rw-r-- 1 root root  693432828 Aug  4  2014 glove.6B.200d.txt\n",
            "-rw-rw-r-- 1 root root  347116733 Aug  4  2014 glove.6B.100d.txt\n"
          ]
        }
      ]
    },
    {
      "cell_type": "code",
      "source": [
        "glove_file = \"glove.6B.300d.txt\"\n",
        "EMBEDDING_DIM = 300\n",
        "\n",
        "cv1 = CountVectorizer()\n",
        "cv1.fit(preprocess(train['Phrase']))\n",
        "\n",
        "cv2 = CountVectorizer()\n",
        "cv2.fit(preprocess(test['Phrase']))\n",
        "\n",
        "all_words = set(cv1.vocabulary_.keys()).union(set(cv2.vocabulary_.keys()))\n",
        "\n",
        "def get_embedding():\n",
        "    embeddings_index = {}\n",
        "    f = open(glove_file)\n",
        "    for line in f:\n",
        "        values = line.split()\n",
        "        word = values[0]\n",
        "        if len(values) == EMBEDDING_DIM + 1 and word in all_words:\n",
        "            coefs = np.asarray(values[1:], dtype=\"float32\")\n",
        "            embeddings_index[word] = coefs\n",
        "    f.close()\n",
        "    return embeddings_index\n",
        "\n",
        "embeddings_index = get_embedding()\n",
        "print(\"Number of words that don't exist in GLOVE:\", len(all_words - set(embeddings_index)))\n"
      ],
      "metadata": {
        "colab": {
          "base_uri": "https://localhost:8080/"
        },
        "id": "j93PeyiSum0-",
        "outputId": "3004d582-3211-409b-af2d-63c22b461c7d"
      },
      "execution_count": 4,
      "outputs": [
        {
          "output_type": "stream",
          "name": "stdout",
          "text": [
            "Number of words that don't exist in GLOVE: 335\n"
          ]
        }
      ]
    },
    {
      "cell_type": "code",
      "source": [
        "\n",
        "MAX_SEQUENCE_LENGTH = 80\n",
        "\n",
        "tokenizer = Tokenizer()\n",
        "tokenizer.fit_on_texts(np.append(train[\"Phrase\"].values, test[\"Phrase\"].values))\n",
        "word_index = tokenizer.word_index\n",
        "\n",
        "nb_words = len(word_index) + 1\n",
        "embedding_matrix = np.random.rand(nb_words, EMBEDDING_DIM + 2)\n",
        "\n",
        "for word, i in word_index.items():\n",
        "    embedding_vector = embeddings_index.get(word)\n",
        "    sent = textblob.TextBlob(word).sentiment\n",
        "    if embedding_vector is not None:\n",
        "        embedding_matrix[i] = np.append(embedding_vector, [sent.polarity, sent.subjectivity])\n",
        "    else:\n",
        "        embedding_matrix[i, -2:] = [sent.polarity, sent.subjectivity]\n",
        "        \n",
        "seq = pad_sequences(tokenizer.texts_to_sequences(train[\"Phrase\"]), maxlen=MAX_SEQUENCE_LENGTH)\n",
        "labels = train.Sentiment.values\n",
        "test_seq = pad_sequences(tokenizer.texts_to_sequences(test[\"Phrase\"]), maxlen=MAX_SEQUENCE_LENGTH)\n",
        "testlabels = test.Sentiment.values\n",
        "seq = torch.tensor(seq)\n",
        "labels = torch.tensor(labels)\n",
        "test_seq = torch.tensor(test_seq)\n",
        "testlabels = torch.tensor(testlabels)\n",
        "embedding_matrix = torch.tensor(embedding_matrix)\n",
        "dataset = TensorDataset(seq, labels)\n",
        "testdataset = TensorDataset(test_seq, testlabels)\n",
        "batch_size = 32\n",
        "train_dataloader = DataLoader(dataset,sampler = RandomSampler(dataset),batch_size = batch_size)\n",
        "validation_dataloader = DataLoader(testdataset,sampler = SequentialSampler(testdataset),batch_size = batch_size)\n",
        "class_weights = []\n",
        "n = len(labels)\n",
        "for i in range(5):\n",
        "  class_weights.append(1-sum(labels==i).numpy()/n)\n",
        "class_weights = torch.tensor(class_weights, dtype=torch.float32).to(device)\n"
      ],
      "metadata": {
        "id": "Ysu9VfYm8tJU"
      },
      "execution_count": 5,
      "outputs": []
    },
    {
      "cell_type": "code",
      "source": [
        "class CustomModel(torch.nn.Module):\n",
        "  def __init__(self, num_class = 5):\n",
        "    super(CustomModel, self).__init__()\n",
        "    self.filter_sizes=[5, 3, 1]\n",
        "    self.num_filters=[100, 100, 100]\n",
        "    self.embed = torch.nn.Embedding.from_pretrained(embedding_matrix, freeze=False)\n",
        "    self.lstm = torch.nn.LSTM(302, 128, batch_first=True,bidirectional=True)\n",
        "    self.dropout = torch.nn.Dropout(0.25)\n",
        "    self.conv1d_list = torch.nn.ModuleList([\n",
        "    torch.nn.Conv1d(in_channels=256,\n",
        "              out_channels=self.num_filters[i],\n",
        "              kernel_size=self.filter_sizes[i])\n",
        "    for i in range(len(self.filter_sizes))])\n",
        "\n",
        "    self.dropout = torch.nn.Dropout(0.25)\n",
        "    self.linear = torch.nn.Linear(np.sum(self.num_filters), num_class)\n",
        "\n",
        "\n",
        "  def forward(self, x, label, weighted = True):\n",
        "    x = self.embed(x).float()\n",
        "    x, (h,c) = self.lstm(x) \n",
        "    x = x.permute(0, 2, 1)\n",
        "    x_conv_list = [F.relu(conv1d(x)) for conv1d in self.conv1d_list]\n",
        "    x_pool_list = [F.max_pool1d(x_conv, kernel_size=x_conv.shape[2])\n",
        "                for x_conv in x_conv_list]\n",
        "    x_fc = torch.cat([x_pool.squeeze(dim=2) for x_pool in x_pool_list],\n",
        "                            dim=1)\n",
        "    logits = self.linear(self.dropout(x_fc))\n",
        "    if weighted:\n",
        "      loss_fct = torch.nn.CrossEntropyLoss(weight=class_weights)\n",
        "    else:\n",
        "      loss_fct = torch.nn.CrossEntropyLoss()\n",
        "    loss = loss_fct(logits.to(device).view(-1, 5), label.to(device).view(-1))\n",
        "    return loss, logits"
      ],
      "metadata": {
        "id": "1ETcG89iEP2Q"
      },
      "execution_count": 6,
      "outputs": []
    },
    {
      "cell_type": "code",
      "source": [
        "def train_model(model, epoch, add_on = \"lstm\", weighted = True):\n",
        "  optimizer = torch.optim.AdamW(model.parameters(),lr = 2e-4, eps = 1e-8)\n",
        "  scheduler = torch.optim.lr_scheduler.CosineAnnealingWarmRestarts(optimizer, T_0=5)\n",
        "  model.train() \n",
        "  train_loss = 0\n",
        "  iters = len(train_dataloader)\n",
        "  i = 0\n",
        "  for batch in train_dataloader:\n",
        "      b_input_ids = batch[0].to(device)\n",
        "      b_labels = batch[1].to(device)\n",
        "      optimizer.zero_grad()\n",
        "      outputs = model(b_input_ids, b_labels)\n",
        "      loss=outputs[0]\n",
        "      logit=outputs[1]\n",
        "      loss.backward()\n",
        "      torch.nn.utils.clip_grad_norm_(model.parameters(), 1.0)\n",
        "      optimizer.step()\n",
        "      scheduler.step(epoch + i / iters)\n",
        "      train_loss += loss.item()\n",
        "      i += 1\n",
        "  return train_loss"
      ],
      "metadata": {
        "execution": {
          "iopub.status.busy": "2021-07-09T06:22:13.370615Z",
          "iopub.execute_input": "2021-07-09T06:22:13.371192Z",
          "iopub.status.idle": "2021-07-09T06:22:13.380152Z",
          "shell.execute_reply.started": "2021-07-09T06:22:13.371152Z",
          "shell.execute_reply": "2021-07-09T06:22:13.379426Z"
        },
        "trusted": true,
        "id": "B45agg027eoj"
      },
      "execution_count": 7,
      "outputs": []
    },
    {
      "cell_type": "code",
      "source": [
        "def valid_model(model, add_on=\"lstm\", weighted=True):\n",
        "  model.eval()\n",
        "  pred=[]\n",
        "  test_loss = 0\n",
        "  for batch in validation_dataloader:\n",
        "      b_input_ids = batch[0].to(device)\n",
        "      b_labels = batch[1].to(device)\n",
        "      with torch.no_grad():      \n",
        "          outputs=model(b_input_ids, b_labels)\n",
        "          loss=outputs[0]\n",
        "          logit=outputs[1]\n",
        "          test_loss += loss.item()\n",
        "          pred.append(logit)\n",
        "  return pred, test_loss"
      ],
      "metadata": {
        "id": "5bB-doFjKqDB"
      },
      "execution_count": 8,
      "outputs": []
    },
    {
      "cell_type": "code",
      "source": [
        "max_epoch = 5\n",
        "train_loss_ = []\n",
        "test_loss_ = []\n",
        "model = CustomModel()\n",
        "model.cuda()\n",
        "\n",
        "pred_list = []\n",
        "preds=[]\n",
        "for epoch in range(max_epoch):\n",
        "    train_ = train_model(model, epoch, add_on=\"lstm\")\n",
        "    train_loss_.append(train_)\n",
        "    preds, test_ = valid_model(model)\n",
        "    pred_list.append(preds)\n",
        "    print(\"Epoch: {}, Training Loss: {}, Validation Loss: {}\".format(epoch, train_, test_))\n",
        "\n",
        "\n",
        "torch.save(model.state_dict(), \"model.pth\")"
      ],
      "metadata": {
        "execution": {
          "iopub.status.busy": "2021-07-09T06:22:13.381457Z",
          "iopub.execute_input": "2021-07-09T06:22:13.381947Z",
          "iopub.status.idle": "2021-07-09T07:09:24.862324Z",
          "shell.execute_reply.started": "2021-07-09T06:22:13.381909Z",
          "shell.execute_reply": "2021-07-09T07:09:24.861471Z"
        },
        "trusted": true,
        "id": "U6ttvwOO7eoj",
        "colab": {
          "base_uri": "https://localhost:8080/"
        },
        "outputId": "fe98ef1f-cd72-469a-836d-6f7b7381aca1"
      },
      "execution_count": 9,
      "outputs": [
        {
          "output_type": "stream",
          "name": "stdout",
          "text": [
            "Epoch: 0, Training Loss: 3965.4867321252823, Validation Loss: 884.4577261805534\n",
            "Epoch: 1, Training Loss: 3325.4901688992977, Validation Loss: 844.867170393467\n",
            "Epoch: 2, Training Loss: 3047.665283501148, Validation Loss: 834.5661784410477\n",
            "Epoch: 3, Training Loss: 2864.2645787000656, Validation Loss: 833.8039603829384\n",
            "Epoch: 4, Training Loss: 2767.694039672613, Validation Loss: 835.8607844412327\n"
          ]
        }
      ]
    },
    {
      "cell_type": "code",
      "source": [
        "from sklearn.metrics import classification_report\n",
        "from sklearn.metrics import confusion_matrix\n",
        "v=[]\n",
        "idx=[]\n",
        "for i in preds:\n",
        "    for j in i:\n",
        "        y=j.to('cpu').detach().numpy().copy()\n",
        "        v.append(y)\n",
        "        idx.append(np.argmax(y))\n",
        "\n",
        "cf_matrix = confusion_matrix(test.Sentiment.values, idx)\n",
        "print(\"Confusion Matrix\\n\")\n",
        "sns.heatmap(cf_matrix, annot=True, cmap='Blues', fmt='g')\n",
        "plt.xlabel('Predicted', fontsize=12)\n",
        "plt.ylabel('Actual',fontsize=12)\n",
        "plt.show()\n",
        "\n",
        "lr_report = classification_report(test.Sentiment.values, idx)\n",
        "\n",
        "print(\"\\nClassification Metrics\\n\")\n",
        "print(lr_report)"
      ],
      "metadata": {
        "id": "ByF2dOeNToIw",
        "outputId": "10dca218-4784-4cf9-b9ee-4b841bc47958",
        "colab": {
          "base_uri": "https://localhost:8080/",
          "height": 586
        }
      },
      "execution_count": 10,
      "outputs": [
        {
          "output_type": "stream",
          "name": "stdout",
          "text": [
            "Confusion Matrix\n",
            "\n"
          ]
        },
        {
          "output_type": "display_data",
          "data": {
            "text/plain": [
              "<Figure size 432x288 with 2 Axes>"
            ],
            "image/png": "[encoded data removed]"
          },
          "metadata": {
            "needs_background": "light"
          }
        },
        {
          "output_type": "stream",
          "name": "stdout",
          "text": [
            "\n",
            "Classification Metrics\n",
            "\n",
            "              precision    recall  f1-score   support\n",
            "\n",
            "           0       0.54      0.39      0.45      1414\n",
            "           1       0.53      0.67      0.59      5455\n",
            "           2       0.80      0.74      0.77     15916\n",
            "           3       0.58      0.62      0.60      6586\n",
            "           4       0.58      0.48      0.52      1841\n",
            "\n",
            "    accuracy                           0.67     31212\n",
            "   macro avg       0.61      0.58      0.59     31212\n",
            "weighted avg       0.68      0.67      0.67     31212\n",
            "\n"
          ]
        }
      ]
    },
    {
      "cell_type": "code",
      "source": [
        "id_df = pd.DataFrame(test.Sentiment.values, columns=['true'])\n",
        "pred_df = pd.DataFrame(idx, columns=['pred'])\n",
        "Submission_df = pd.concat([id_df, pred_df], axis=1)\n",
        "Submission_df.head()"
      ],
      "metadata": {
        "execution": {
          "iopub.status.busy": "2021-07-09T07:23:59.026877Z",
          "iopub.execute_input": "2021-07-09T07:23:59.0272Z",
          "iopub.status.idle": "2021-07-09T07:23:59.078822Z",
          "shell.execute_reply.started": "2021-07-09T07:23:59.027169Z",
          "shell.execute_reply": "2021-07-09T07:23:59.077741Z"
        },
        "trusted": true,
        "id": "63BWVXx07eok",
        "outputId": "eded9022-3415-41ec-e016-9f8a3a381f19",
        "colab": {
          "base_uri": "https://localhost:8080/",
          "height": 206
        }
      },
      "execution_count": 11,
      "outputs": [
        {
          "output_type": "execute_result",
          "data": {
            "text/plain": [
              "   true  pred\n",
              "0     3     3\n",
              "1     0     1\n",
              "2     1     1\n",
              "3     2     2\n",
              "4     3     3"
            ],
            "text/html": [
              "\n",
              "  <div id=\"df-83d378b4-046c-41a2-b43f-d9e7a434f1ca\">\n",
              "    <div class=\"colab-df-container\">\n",
              "      <div>\n",
              "<style scoped>\n",
              "    .dataframe tbody tr th:only-of-type {\n",
              "        vertical-align: middle;\n",
              "    }\n",
              "\n",
              "    .dataframe tbody tr th {\n",
              "        vertical-align: top;\n",
              "    }\n",
              "\n",
              "    .dataframe thead th {\n",
              "        text-align: right;\n",
              "    }\n",
              "</style>\n",
              "<table border=\"1\" class=\"dataframe\">\n",
              "  <thead>\n",
              "    <tr style=\"text-align: right;\">\n",
              "      <th></th>\n",
              "      <th>true</th>\n",
              "      <th>pred</th>\n",
              "    </tr>\n",
              "  </thead>\n",
              "  <tbody>\n",
              "    <tr>\n",
              "      <th>0</th>\n",
              "      <td>3</td>\n",
              "      <td>3</td>\n",
              "    </tr>\n",
              "    <tr>\n",
              "      <th>1</th>\n",
              "      <td>0</td>\n",
              "      <td>1</td>\n",
              "    </tr>\n",
              "    <tr>\n",
              "      <th>2</th>\n",
              "      <td>1</td>\n",
              "      <td>1</td>\n",
              "    </tr>\n",
              "    <tr>\n",
              "      <th>3</th>\n",
              "      <td>2</td>\n",
              "      <td>2</td>\n",
              "    </tr>\n",
              "    <tr>\n",
              "      <th>4</th>\n",
              "      <td>3</td>\n",
              "      <td>3</td>\n",
              "    </tr>\n",
              "  </tbody>\n",
              "</table>\n",
              "</div>\n",
              "      <button class=\"colab-df-convert\" onclick=\"convertToInteractive('df-83d378b4-046c-41a2-b43f-d9e7a434f1ca')\"\n",
              "              title=\"Convert this dataframe to an interactive table.\"\n",
              "              style=\"display:none;\">\n",
              "        \n",
              "  <svg xmlns=\"http://www.w3.org/2000/svg\" height=\"24px\"viewBox=\"0 0 24 24\"\n",
              "       width=\"24px\">\n",
              "    <path d=\"M0 0h24v24H0V0z\" fill=\"none\"/>\n",
              "    <path d=\"M18.56 5.44l.94 2.06.94-2.06 2.06-.94-2.06-.94-.94-2.06-.94 2.06-2.06.94zm-11 1L8.5 8.5l.94-2.06 2.06-.94-2.06-.94L8.5 2.5l-.94 2.06-2.06.94zm10 10l.94 2.06.94-2.06 2.06-.94-2.06-.94-.94-2.06-.94 2.06-2.06.94z\"/><path d=\"M17.41 7.96l-1.37-1.37c-.4-.4-.92-.59-1.43-.59-.52 0-1.04.2-1.43.59L10.3 9.45l-7.72 7.72c-.78.78-.78 2.05 0 2.83L4 21.41c.39.39.9.59 1.41.59.51 0 1.02-.2 1.41-.59l7.78-7.78 2.81-2.81c.8-.78.8-2.07 0-2.86zM5.41 20L4 18.59l7.72-7.72 1.47 1.35L5.41 20z\"/>\n",
              "  </svg>\n",
              "      </button>\n",
              "      \n",
              "  <style>\n",
              "    .colab-df-container {\n",
              "      display:flex;\n",
              "      flex-wrap:wrap;\n",
              "      gap: 12px;\n",
              "    }\n",
              "\n",
              "    .colab-df-convert {\n",
              "      background-color: #E8F0FE;\n",
              "      border: none;\n",
              "      border-radius: 50%;\n",
              "      cursor: pointer;\n",
              "      display: none;\n",
              "      fill: #1967D2;\n",
              "      height: 32px;\n",
              "      padding: 0 0 0 0;\n",
              "      width: 32px;\n",
              "    }\n",
              "\n",
              "    .colab-df-convert:hover {\n",
              "      background-color: #E2EBFA;\n",
              "      box-shadow: 0px 1px 2px rgba(60, 64, 67, 0.3), 0px 1px 3px 1px rgba(60, 64, 67, 0.15);\n",
              "      fill: #174EA6;\n",
              "    }\n",
              "\n",
              "    [theme=dark] .colab-df-convert {\n",
              "      background-color: #3B4455;\n",
              "      fill: #D2E3FC;\n",
              "    }\n",
              "\n",
              "    [theme=dark] .colab-df-convert:hover {\n",
              "      background-color: #434B5C;\n",
              "      box-shadow: 0px 1px 3px 1px rgba(0, 0, 0, 0.15);\n",
              "      filter: drop-shadow(0px 1px 2px rgba(0, 0, 0, 0.3));\n",
              "      fill: #FFFFFF;\n",
              "    }\n",
              "  </style>\n",
              "\n",
              "      <script>\n",
              "        const buttonEl =\n",
              "          document.querySelector('#df-83d378b4-046c-41a2-b43f-d9e7a434f1ca button.colab-df-convert');\n",
              "        buttonEl.style.display =\n",
              "          google.colab.kernel.accessAllowed ? 'block' : 'none';\n",
              "\n",
              "        async function convertToInteractive(key) {\n",
              "          const element = document.querySelector('#df-83d378b4-046c-41a2-b43f-d9e7a434f1ca');\n",
              "          const dataTable =\n",
              "            await google.colab.kernel.invokeFunction('convertToInteractive',\n",
              "                                                     [key], {});\n",
              "          if (!dataTable) return;\n",
              "\n",
              "          const docLinkHtml = 'Like what you see? Visit the ' +\n",
              "            '<a target=\"_blank\" href=https://colab.research.google.com/notebooks/data_table.ipynb>data table notebook</a>'\n",
              "            + ' to learn more about interactive tables.';\n",
              "          element.innerHTML = '';\n",
              "          dataTable['output_type'] = 'display_data';\n",
              "          await google.colab.output.renderOutput(dataTable, element);\n",
              "          const docLink = document.createElement('div');\n",
              "          docLink.innerHTML = docLinkHtml;\n",
              "          element.appendChild(docLink);\n",
              "        }\n",
              "      </script>\n",
              "    </div>\n",
              "  </div>\n",
              "  "
            ]
          },
          "metadata": {},
          "execution_count": 11
        }
      ]
    },
    {
      "cell_type": "code",
      "source": [
        "Submission_df.to_csv('BiLSTM+CNN.csv', index=False)"
      ],
      "metadata": {
        "execution": {
          "iopub.status.busy": "2021-07-09T07:25:04.188449Z",
          "iopub.execute_input": "2021-07-09T07:25:04.188779Z",
          "iopub.status.idle": "2021-07-09T07:25:04.30175Z",
          "shell.execute_reply.started": "2021-07-09T07:25:04.188743Z",
          "shell.execute_reply": "2021-07-09T07:25:04.300836Z"
        },
        "trusted": true,
        "id": "S-4OTBNv7eol"
      },
      "execution_count": 12,
      "outputs": []
    }
  ]
}