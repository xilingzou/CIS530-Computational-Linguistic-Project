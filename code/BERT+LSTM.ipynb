{
  "metadata": {
    "kernelspec": {
      "language": "python",
      "display_name": "Python 3",
      "name": "python3"
    },
    "language_info": {
      "pygments_lexer": "ipython3",
      "nbconvert_exporter": "python",
      "version": "3.6.4",
      "file_extension": ".py",
      "codemirror_mode": {
        "name": "ipython",
        "version": 3
      },
      "name": "python",
      "mimetype": "text/x-python"
    },
    "colab": {
      "provenance": [],
      "machine_shape": "hm"
    },
    "accelerator": "GPU",
    "gpuClass": "premium",
    "widgets": {
      "application/vnd.jupyter.widget-state+json": {
        "abc773e3b2d04bcd9094069176b7f983": {
          "model_module": "@jupyter-widgets/controls",
          "model_name": "HBoxModel",
          "model_module_version": "1.5.0",
          "state": {
            "_dom_classes": [],
            "_model_module": "@jupyter-widgets/controls",
            "_model_module_version": "1.5.0",
            "_model_name": "HBoxModel",
            "_view_count": null,
            "_view_module": "@jupyter-widgets/controls",
            "_view_module_version": "1.5.0",
            "_view_name": "HBoxView",
            "box_style": "",
            "children": [
              "IPY_MODEL_163228b9de85443396f393cc6b0a5986",
              "IPY_MODEL_55cc8961a87b4e8ba0b5e31e70820d7b",
              "IPY_MODEL_8ad58b47abe4449199e87c18a8e3d45b"
            ],
            "layout": "IPY_MODEL_cfa1be3968f84a79980575a9a8ad1073"
          }
        },
        "163228b9de85443396f393cc6b0a5986": {
          "model_module": "@jupyter-widgets/controls",
          "model_name": "HTMLModel",
          "model_module_version": "1.5.0",
          "state": {
            "_dom_classes": [],
            "_model_module": "@jupyter-widgets/controls",
            "_model_module_version": "1.5.0",
            "_model_name": "HTMLModel",
            "_view_count": null,
            "_view_module": "@jupyter-widgets/controls",
            "_view_module_version": "1.5.0",
            "_view_name": "HTMLView",
            "description": "",
            "description_tooltip": null,
            "layout": "IPY_MODEL_75fb10ecee1948728eb81720b7899324",
            "placeholder": "​",
            "style": "IPY_MODEL_5bd121baac8241ce9d72f16aa0f186b0",
            "value": "Downloading: 100%"
          }
        },
        "55cc8961a87b4e8ba0b5e31e70820d7b": {
          "model_module": "@jupyter-widgets/controls",
          "model_name": "FloatProgressModel",
          "model_module_version": "1.5.0",
          "state": {
            "_dom_classes": [],
            "_model_module": "@jupyter-widgets/controls",
            "_model_module_version": "1.5.0",
            "_model_name": "FloatProgressModel",
            "_view_count": null,
            "_view_module": "@jupyter-widgets/controls",
            "_view_module_version": "1.5.0",
            "_view_name": "ProgressView",
            "bar_style": "success",
            "description": "",
            "description_tooltip": null,
            "layout": "IPY_MODEL_8fd1e05fa893430b8fc4e08cf0928060",
            "max": 440473133,
            "min": 0,
            "orientation": "horizontal",
            "style": "IPY_MODEL_ca76852fbd8545e281a57f2cba3154fa",
            "value": 440473133
          }
        },
        "8ad58b47abe4449199e87c18a8e3d45b": {
          "model_module": "@jupyter-widgets/controls",
          "model_name": "HTMLModel",
          "model_module_version": "1.5.0",
          "state": {
            "_dom_classes": [],
            "_model_module": "@jupyter-widgets/controls",
            "_model_module_version": "1.5.0",
            "_model_name": "HTMLModel",
            "_view_count": null,
            "_view_module": "@jupyter-widgets/controls",
            "_view_module_version": "1.5.0",
            "_view_name": "HTMLView",
            "description": "",
            "description_tooltip": null,
            "layout": "IPY_MODEL_bfc4e547d88444d2bcadf205f1d4a4f3",
            "placeholder": "​",
            "style": "IPY_MODEL_61f5b70adf724e0aa575eb5e4df302f8",
            "value": " 440M/440M [00:05&lt;00:00, 81.5MB/s]"
          }
        },
        "cfa1be3968f84a79980575a9a8ad1073": {
          "model_module": "@jupyter-widgets/base",
          "model_name": "LayoutModel",
          "model_module_version": "1.2.0",
          "state": {
            "_model_module": "@jupyter-widgets/base",
            "_model_module_version": "1.2.0",
            "_model_name": "LayoutModel",
            "_view_count": null,
            "_view_module": "@jupyter-widgets/base",
            "_view_module_version": "1.2.0",
            "_view_name": "LayoutView",
            "align_content": null,
            "align_items": null,
            "align_self": null,
            "border": null,
            "bottom": null,
            "display": null,
            "flex": null,
            "flex_flow": null,
            "grid_area": null,
            "grid_auto_columns": null,
            "grid_auto_flow": null,
            "grid_auto_rows": null,
            "grid_column": null,
            "grid_gap": null,
            "grid_row": null,
            "grid_template_areas": null,
            "grid_template_columns": null,
            "grid_template_rows": null,
            "height": null,
            "justify_content": null,
            "justify_items": null,
            "left": null,
            "margin": null,
            "max_height": null,
            "max_width": null,
            "min_height": null,
            "min_width": null,
            "object_fit": null,
            "object_position": null,
            "order": null,
            "overflow": null,
            "overflow_x": null,
            "overflow_y": null,
            "padding": null,
            "right": null,
            "top": null,
            "visibility": null,
            "width": null
          }
        },
        "75fb10ecee1948728eb81720b7899324": {
          "model_module": "@jupyter-widgets/base",
          "model_name": "LayoutModel",
          "model_module_version": "1.2.0",
          "state": {
            "_model_module": "@jupyter-widgets/base",
            "_model_module_version": "1.2.0",
            "_model_name": "LayoutModel",
            "_view_count": null,
            "_view_module": "@jupyter-widgets/base",
            "_view_module_version": "1.2.0",
            "_view_name": "LayoutView",
            "align_content": null,
            "align_items": null,
            "align_self": null,
            "border": null,
            "bottom": null,
            "display": null,
            "flex": null,
            "flex_flow": null,
            "grid_area": null,
            "grid_auto_columns": null,
            "grid_auto_flow": null,
            "grid_auto_rows": null,
            "grid_column": null,
            "grid_gap": null,
            "grid_row": null,
            "grid_template_areas": null,
            "grid_template_columns": null,
            "grid_template_rows": null,
            "height": null,
            "justify_content": null,
            "justify_items": null,
            "left": null,
            "margin": null,
            "max_height": null,
            "max_width": null,
            "min_height": null,
            "min_width": null,
            "object_fit": null,
            "object_position": null,
            "order": null,
            "overflow": null,
            "overflow_x": null,
            "overflow_y": null,
            "padding": null,
            "right": null,
            "top": null,
            "visibility": null,
            "width": null
          }
        },
        "5bd121baac8241ce9d72f16aa0f186b0": {
          "model_module": "@jupyter-widgets/controls",
          "model_name": "DescriptionStyleModel",
          "model_module_version": "1.5.0",
          "state": {
            "_model_module": "@jupyter-widgets/controls",
            "_model_module_version": "1.5.0",
            "_model_name": "DescriptionStyleModel",
            "_view_count": null,
            "_view_module": "@jupyter-widgets/base",
            "_view_module_version": "1.2.0",
            "_view_name": "StyleView",
            "description_width": ""
          }
        },
        "8fd1e05fa893430b8fc4e08cf0928060": {
          "model_module": "@jupyter-widgets/base",
          "model_name": "LayoutModel",
          "model_module_version": "1.2.0",
          "state": {
            "_model_module": "@jupyter-widgets/base",
            "_model_module_version": "1.2.0",
            "_model_name": "LayoutModel",
            "_view_count": null,
            "_view_module": "@jupyter-widgets/base",
            "_view_module_version": "1.2.0",
            "_view_name": "LayoutView",
            "align_content": null,
            "align_items": null,
            "align_self": null,
            "border": null,
            "bottom": null,
            "display": null,
            "flex": null,
            "flex_flow": null,
            "grid_area": null,
            "grid_auto_columns": null,
            "grid_auto_flow": null,
            "grid_auto_rows": null,
            "grid_column": null,
            "grid_gap": null,
            "grid_row": null,
            "grid_template_areas": null,
            "grid_template_columns": null,
            "grid_template_rows": null,
            "height": null,
            "justify_content": null,
            "justify_items": null,
            "left": null,
            "margin": null,
            "max_height": null,
            "max_width": null,
            "min_height": null,
            "min_width": null,
            "object_fit": null,
            "object_position": null,
            "order": null,
            "overflow": null,
            "overflow_x": null,
            "overflow_y": null,
            "padding": null,
            "right": null,
            "top": null,
            "visibility": null,
            "width": null
          }
        },
        "ca76852fbd8545e281a57f2cba3154fa": {
          "model_module": "@jupyter-widgets/controls",
          "model_name": "ProgressStyleModel",
          "model_module_version": "1.5.0",
          "state": {
            "_model_module": "@jupyter-widgets/controls",
            "_model_module_version": "1.5.0",
            "_model_name": "ProgressStyleModel",
            "_view_count": null,
            "_view_module": "@jupyter-widgets/base",
            "_view_module_version": "1.2.0",
            "_view_name": "StyleView",
            "bar_color": null,
            "description_width": ""
          }
        },
        "bfc4e547d88444d2bcadf205f1d4a4f3": {
          "model_module": "@jupyter-widgets/base",
          "model_name": "LayoutModel",
          "model_module_version": "1.2.0",
          "state": {
            "_model_module": "@jupyter-widgets/base",
            "_model_module_version": "1.2.0",
            "_model_name": "LayoutModel",
            "_view_count": null,
            "_view_module": "@jupyter-widgets/base",
            "_view_module_version": "1.2.0",
            "_view_name": "LayoutView",
            "align_content": null,
            "align_items": null,
            "align_self": null,
            "border": null,
            "bottom": null,
            "display": null,
            "flex": null,
            "flex_flow": null,
            "grid_area": null,
            "grid_auto_columns": null,
            "grid_auto_flow": null,
            "grid_auto_rows": null,
            "grid_column": null,
            "grid_gap": null,
            "grid_row": null,
            "grid_template_areas": null,
            "grid_template_columns": null,
            "grid_template_rows": null,
            "height": null,
            "justify_content": null,
            "justify_items": null,
            "left": null,
            "margin": null,
            "max_height": null,
            "max_width": null,
            "min_height": null,
            "min_width": null,
            "object_fit": null,
            "object_position": null,
            "order": null,
            "overflow": null,
            "overflow_x": null,
            "overflow_y": null,
            "padding": null,
            "right": null,
            "top": null,
            "visibility": null,
            "width": null
          }
        },
        "61f5b70adf724e0aa575eb5e4df302f8": {
          "model_module": "@jupyter-widgets/controls",
          "model_name": "DescriptionStyleModel",
          "model_module_version": "1.5.0",
          "state": {
            "_model_module": "@jupyter-widgets/controls",
            "_model_module_version": "1.5.0",
            "_model_name": "DescriptionStyleModel",
            "_view_count": null,
            "_view_module": "@jupyter-widgets/base",
            "_view_module_version": "1.2.0",
            "_view_name": "StyleView",
            "description_width": ""
          }
        }
      }
    }
  },
  "nbformat_minor": 0,
  "nbformat": 4,
  "cells": [
    {
      "cell_type": "code",
      "source": [
        "!pip install transformers"
      ],
      "metadata": {
        "colab": {
          "base_uri": "https://localhost:8080/"
        },
        "id": "rYHoASAA73xh",
        "outputId": "90cbba4c-2622-4441-822d-bfb5f84bee92"
      },
      "execution_count": 1,
      "outputs": [
        {
          "output_type": "stream",
          "name": "stdout",
          "text": [
            "Looking in indexes: https://pypi.org/simple, https://us-python.pkg.dev/colab-wheels/public/simple/\n",
            "Collecting transformers\n",
            "  Downloading transformers-4.25.1-py3-none-any.whl (5.8 MB)\n",
            "\u001b[K     |████████████████████████████████| 5.8 MB 26.9 MB/s \n",
            "\u001b[?25hRequirement already satisfied: packaging>=20.0 in /usr/local/lib/python3.8/dist-packages (from transformers) (21.3)\n",
            "Requirement already satisfied: tqdm>=4.27 in /usr/local/lib/python3.8/dist-packages (from transformers) (4.64.1)\n",
            "Collecting huggingface-hub<1.0,>=0.10.0\n",
            "  Downloading huggingface_hub-0.11.1-py3-none-any.whl (182 kB)\n",
            "\u001b[K     |████████████████████████████████| 182 kB 93.0 MB/s \n",
            "\u001b[?25hRequirement already satisfied: pyyaml>=5.1 in /usr/local/lib/python3.8/dist-packages (from transformers) (6.0)\n",
            "Requirement already satisfied: requests in /usr/local/lib/python3.8/dist-packages (from transformers) (2.23.0)\n",
            "Requirement already satisfied: filelock in /usr/local/lib/python3.8/dist-packages (from transformers) (3.8.2)\n",
            "Requirement already satisfied: numpy>=1.17 in /usr/local/lib/python3.8/dist-packages (from transformers) (1.21.6)\n",
            "Requirement already satisfied: regex!=2019.12.17 in /usr/local/lib/python3.8/dist-packages (from transformers) (2022.6.2)\n",
            "Collecting tokenizers!=0.11.3,<0.14,>=0.11.1\n",
            "  Downloading tokenizers-0.13.2-cp38-cp38-manylinux_2_17_x86_64.manylinux2014_x86_64.whl (7.6 MB)\n",
            "\u001b[K     |████████████████████████████████| 7.6 MB 86.5 MB/s \n",
            "\u001b[?25hRequirement already satisfied: typing-extensions>=3.7.4.3 in /usr/local/lib/python3.8/dist-packages (from huggingface-hub<1.0,>=0.10.0->transformers) (4.4.0)\n",
            "Requirement already satisfied: pyparsing!=3.0.5,>=2.0.2 in /usr/local/lib/python3.8/dist-packages (from packaging>=20.0->transformers) (3.0.9)\n",
            "Requirement already satisfied: chardet<4,>=3.0.2 in /usr/local/lib/python3.8/dist-packages (from requests->transformers) (3.0.4)\n",
            "Requirement already satisfied: urllib3!=1.25.0,!=1.25.1,<1.26,>=1.21.1 in /usr/local/lib/python3.8/dist-packages (from requests->transformers) (1.24.3)\n",
            "Requirement already satisfied: idna<3,>=2.5 in /usr/local/lib/python3.8/dist-packages (from requests->transformers) (2.10)\n",
            "Requirement already satisfied: certifi>=2017.4.17 in /usr/local/lib/python3.8/dist-packages (from requests->transformers) (2022.12.7)\n",
            "Installing collected packages: tokenizers, huggingface-hub, transformers\n",
            "Successfully installed huggingface-hub-0.11.1 tokenizers-0.13.2 transformers-4.25.1\n"
          ]
        }
      ]
    },
    {
      "cell_type": "code",
      "source": [
        "import numpy as np # linear algebra\n",
        "import pandas as pd # data processing, CSV file I/O (e.g. pd.read_csv)\n",
        "import matplotlib.pyplot as plt\n",
        "import seaborn as sns\n",
        "import os\n",
        "import torch\n",
        "import transformers\n",
        "from transformers import BertForSequenceClassification, BertTokenizer, BertConfig,BertModel\n",
        "from torch.utils.data import TensorDataset, random_split\n",
        "from torch.utils.data import DataLoader, RandomSampler, SequentialSampler\n",
        "from google.colab import drive\n",
        "drive.mount('/content/drive')\n",
        "device = 'cuda:0' if torch.cuda.is_available() else 'cpu'\n",
        "train = pd.read_csv('/content/drive/MyDrive/df_train.csv', sep=\",\")\n",
        "test = pd.read_csv('/content/drive/MyDrive/df_dev.csv', sep=\",\")\n",
        "submission = pd.read_csv('/content/drive/MyDrive/df_test.csv', sep=\",\")\n",
        "tokenizer = BertTokenizer.from_pretrained('bert-base-uncased')\n",
        "config = BertConfig.from_pretrained('bert-base-uncased')"
      ],
      "metadata": {
        "_uuid": "8f2839f25d086af736a60e9eeb907d3b93b6e0e5",
        "_cell_guid": "b1076dfc-b9ad-4769-8c92-a6c4dae69d19",
        "execution": {
          "iopub.status.busy": "2021-07-09T06:17:53.913247Z",
          "iopub.execute_input": "2021-07-09T06:17:53.913652Z",
          "iopub.status.idle": "2021-07-09T06:17:55.491926Z",
          "shell.execute_reply.started": "2021-07-09T06:17:53.913571Z",
          "shell.execute_reply": "2021-07-09T06:17:55.490275Z"
        },
        "trusted": true,
        "id": "1_j6U-X87eoX",
        "colab": {
          "base_uri": "https://localhost:8080/"
        },
        "outputId": "7d8fb7c5-ba2f-430d-80e3-2e34ccbf76fe"
      },
      "execution_count": 13,
      "outputs": [
        {
          "output_type": "stream",
          "name": "stdout",
          "text": [
            "Drive already mounted at /content/drive; to attempt to forcibly remount, call drive.mount(\"/content/drive\", force_remount=True).\n"
          ]
        }
      ]
    },
    {
      "cell_type": "code",
      "source": [
        "sentences = train.Phrase.values\n",
        "labels = train.Sentiment.values\n",
        "tsentences = test.Phrase.values\n",
        "tlabels = test.Sentiment.values\n",
        "tPhraseId = test.PhraseId.values\n",
        "input_ids = []\n",
        "attention_masks = []\n",
        "\n",
        "for sent in sentences:\n",
        "    encoded_dict = tokenizer.encode_plus(\n",
        "                        sent,\n",
        "                        truncation=True,\n",
        "                        add_special_tokens = True,\n",
        "                        max_length = 80,\n",
        "                        padding='max_length',\n",
        "                        pad_to_max_length = True,\n",
        "                        return_attention_mask = True,   \n",
        "                        return_tensors = 'pt',     \n",
        "                   )\n",
        "\n",
        "    input_ids.append(encoded_dict['input_ids'])\n",
        "    attention_masks.append(encoded_dict['attention_mask'])\n",
        "input_ids = torch.cat(input_ids, dim=0)\n",
        "attention_masks = torch.cat(attention_masks, dim=0)\n",
        "labels = torch.tensor(labels)\n",
        "\n",
        "testinput_ids = []\n",
        "testattention_masks = []\n",
        "\n",
        "for sent in tsentences:\n",
        "    encoded_dict = tokenizer.encode_plus(\n",
        "                        sent,\n",
        "                        truncation=True,\n",
        "                        add_special_tokens = True,\n",
        "                        max_length = 80,\n",
        "                        padding='max_length',\n",
        "                        pad_to_max_length = True,\n",
        "                        return_attention_mask = True,   \n",
        "                        return_tensors = 'pt',     \n",
        "                   )\n",
        "  \n",
        "    testinput_ids.append(encoded_dict['input_ids'])\n",
        "    testattention_masks.append(encoded_dict['attention_mask'])\n",
        "testinput_ids = torch.cat(testinput_ids, dim=0)\n",
        "testattention_masks = torch.cat(testattention_masks, dim=0)\n",
        "\n",
        "testlabels = torch.tensor(tlabels)\n",
        "dataset = TensorDataset(input_ids, attention_masks, labels)\n",
        "testdataset = TensorDataset(testinput_ids, testattention_masks, testlabels)\n",
        "batch_size = 32\n",
        "train_dataloader = DataLoader(dataset,sampler = RandomSampler(dataset),batch_size = batch_size)\n",
        "validation_dataloader = DataLoader(testdataset,sampler = SequentialSampler(testdataset),batch_size = batch_size)\n",
        "class_weights = []\n",
        "n = len(labels)\n",
        "for i in range(5):\n",
        "  class_weights.append(1-sum(labels==i).numpy()/n)\n",
        "class_weights = torch.tensor(class_weights, dtype=torch.float32).to(device)"
      ],
      "metadata": {
        "execution": {
          "iopub.status.busy": "2021-07-09T06:18:57.595521Z",
          "iopub.execute_input": "2021-07-09T06:18:57.59601Z",
          "iopub.status.idle": "2021-07-09T06:20:04.237155Z",
          "shell.execute_reply.started": "2021-07-09T06:18:57.595972Z",
          "shell.execute_reply": "2021-07-09T06:20:04.236325Z"
        },
        "trusted": true,
        "id": "iIWgwW-d7eob"
      },
      "execution_count": 3,
      "outputs": []
    },
    {
      "cell_type": "code",
      "source": [
        "ssentences = submission.Phrase.values\n",
        "sinput_ids = []\n",
        "sattention_masks = []\n",
        "for sent in ssentences:\n",
        "    encoded_dict = tokenizer.encode_plus(\n",
        "                        sent,\n",
        "                        truncation=True,\n",
        "                        add_special_tokens = True,\n",
        "                        max_length = 80,\n",
        "                        padding='max_length',\n",
        "                        pad_to_max_length = True,\n",
        "                        return_attention_mask = True,   \n",
        "                        return_tensors = 'pt',     \n",
        "                   )\n",
        "  \n",
        "    sinput_ids.append(encoded_dict['input_ids'])\n",
        "    sattention_masks.append(encoded_dict['attention_mask'])\n",
        "sinput_ids = torch.cat(sinput_ids, dim=0)\n",
        "sattention_masks = torch.cat(sattention_masks, dim=0)\n",
        "\n",
        "sdataset = TensorDataset(sinput_ids, sattention_masks)\n",
        "sdataloader = DataLoader(sdataset,sampler = RandomSampler(sdataset),batch_size = batch_size)\n"
      ],
      "metadata": {
        "id": "ptryKcjgGsXr"
      },
      "execution_count": 18,
      "outputs": []
    },
    {
      "cell_type": "code",
      "source": [
        "class CustomBERTModel(torch.nn.Module):\n",
        "    def __init__(self, num_class = 5):\n",
        "          super(CustomBERTModel, self).__init__()\n",
        "          self.bert = BertModel.from_pretrained(\"bert-base-uncased\")\n",
        "          self.dropout = torch.nn.Dropout(0.1)\n",
        "          self.linear1 = torch.nn.Linear(768, num_class)\n",
        "          self.lstm = torch.nn.LSTM(768, 256, batch_first=True,bidirectional=True)\n",
        "          self.linear = torch.nn.Linear(256*2, num_class)\n",
        "\n",
        "\n",
        "    def forward(self, input_ids, attention_mask, labels, add_on = \"lstm\", weighted = True):\n",
        "          outputs = self.bert(\n",
        "               input_ids, \n",
        "               attention_mask=attention_mask, output_hidden_states=True)\n",
        "\n",
        "          if add_on == \"lstm\":\n",
        "            lstm_output, (h,c) = self.lstm(outputs[1]) \n",
        "            lstm_output = self.dropout(lstm_output)\n",
        "            linear_output = self.linear(lstm_output)\n",
        "            if weighted:\n",
        "              loss_fct = torch.nn.CrossEntropyLoss(weight=class_weights)\n",
        "            else:\n",
        "              loss_fct = torch.nn.CrossEntropyLoss()\n",
        "            loss = loss_fct(linear_output.view(-1, 5), labels.view(-1))\n",
        "          elif add_on == \"linear\":\n",
        "            pooled_output = outputs[1]\n",
        "            pooled_output = self.dropout(pooled_output)\n",
        "            linear_output = self.linear1(pooled_output)\n",
        "            if weighted:\n",
        "              loss_fct = torch.nn.CrossEntropyLoss(weight=class_weights)\n",
        "            else:\n",
        "              loss_fct = torch.nn.CrossEntropyLoss()\n",
        "            loss = loss_fct(linear_output.view(-1, 5), labels.view(-1))\n",
        "          return loss, linear_output"
      ],
      "metadata": {
        "id": "yvyZPj7jXJiT"
      },
      "execution_count": 8,
      "outputs": []
    },
    {
      "cell_type": "code",
      "source": [
        "def train_model(model, epoch, add_on = \"lstm\", weighted = True):\n",
        "  optimizer = torch.optim.AdamW(model.parameters(),lr = 2e-5, eps = 1e-8)\n",
        "  if epoch > 0:\n",
        "    for param in model.bert.parameters():\n",
        "      param.requires_grad = False\n",
        "    optimizer = torch.optim.AdamW(model.parameters(),lr = 2e-5, eps = 1e-8)\n",
        "    scheduler = torch.optim.lr_scheduler.CosineAnnealingWarmRestarts(optimizer, T_0=6)\n",
        "\n",
        "  model.train() \n",
        "  train_loss = 0\n",
        "  iters = len(train_dataloader)\n",
        "  i = 0\n",
        "  for batch in train_dataloader:\n",
        "      b_input_ids = batch[0].to(device)\n",
        "      b_input_mask = batch[1].to(device)\n",
        "      b_labels = batch[2].to(device)\n",
        "      optimizer.zero_grad()\n",
        "      outputs = model(b_input_ids,attention_mask=b_input_mask,labels=b_labels, add_on=add_on, weighted=weighted)\n",
        "      loss=outputs[0]\n",
        "      logit=outputs[1]\n",
        "      loss.backward()\n",
        "      torch.nn.utils.clip_grad_norm_(model.parameters(), 1.0)\n",
        "      optimizer.step()\n",
        "      if epoch > 0:\n",
        "        scheduler.step((epoch-1) + i / iters)\n",
        "      train_loss += loss.item()\n",
        "      i += 1\n",
        "  return train_loss"
      ],
      "metadata": {
        "execution": {
          "iopub.status.busy": "2021-07-09T06:22:13.370615Z",
          "iopub.execute_input": "2021-07-09T06:22:13.371192Z",
          "iopub.status.idle": "2021-07-09T06:22:13.380152Z",
          "shell.execute_reply.started": "2021-07-09T06:22:13.371152Z",
          "shell.execute_reply": "2021-07-09T06:22:13.379426Z"
        },
        "trusted": true,
        "id": "B45agg027eoj"
      },
      "execution_count": 5,
      "outputs": []
    },
    {
      "cell_type": "code",
      "source": [
        "def valid_model(model, add_on=\"lstm\", weighted=True):\n",
        "  model.eval()\n",
        "  pred=[]\n",
        "  test_loss = 0\n",
        "  for batch in validation_dataloader:\n",
        "      b_input_ids = batch[0].to(device)\n",
        "      b_input_mask = batch[1].to(device)\n",
        "      b_labels = batch[2].to(device)\n",
        "      with torch.no_grad():      \n",
        "          outputs=model(b_input_ids,attention_mask=b_input_mask, labels = b_labels, add_on=add_on, weighted=weighted)\n",
        "          loss=outputs[0]\n",
        "          logit=outputs[1]\n",
        "          test_loss += loss.item()\n",
        "          pred.append(logit)\n",
        "  return pred, test_loss"
      ],
      "metadata": {
        "id": "5bB-doFjKqDB"
      },
      "execution_count": 6,
      "outputs": []
    },
    {
      "cell_type": "code",
      "source": [
        "max_epoch = 31\n",
        "train_loss_ = []\n",
        "test_loss_ = []\n",
        "model = CustomBERTModel()\n",
        "model.cuda()\n",
        "\n",
        "pred_list = []\n",
        "preds=[]\n",
        "for epoch in range(max_epoch):\n",
        "    train_ = train_model(model, epoch, add_on=\"lstm\")\n",
        "    train_loss_.append(train_)\n",
        "    preds, test_ = valid_model(model)\n",
        "    pred_list.append(preds)\n",
        "    print(\"Epoch: {}, Training Loss: {}, Validation Loss: {}\".format(epoch, train_, test_))\n",
        "\n",
        "\n",
        "torch.save(model.state_dict(), \"model.pth\")"
      ],
      "metadata": {
        "execution": {
          "iopub.status.busy": "2021-07-09T06:22:13.381457Z",
          "iopub.execute_input": "2021-07-09T06:22:13.381947Z",
          "iopub.status.idle": "2021-07-09T07:09:24.862324Z",
          "shell.execute_reply.started": "2021-07-09T06:22:13.381909Z",
          "shell.execute_reply": "2021-07-09T07:09:24.861471Z"
        },
        "trusted": true,
        "id": "U6ttvwOO7eoj",
        "colab": {
          "base_uri": "https://localhost:8080/"
        },
        "outputId": "ad233d27-8322-4802-f3ef-4c15aa82d0e0"
      },
      "execution_count": 10,
      "outputs": [
        {
          "output_type": "stream",
          "name": "stderr",
          "text": [
            "Some weights of the model checkpoint at bert-base-uncased were not used when initializing BertModel: ['cls.predictions.transform.LayerNorm.bias', 'cls.seq_relationship.bias', 'cls.predictions.transform.LayerNorm.weight', 'cls.predictions.transform.dense.weight', 'cls.predictions.decoder.weight', 'cls.predictions.transform.dense.bias', 'cls.seq_relationship.weight', 'cls.predictions.bias']\n",
            "- This IS expected if you are initializing BertModel from the checkpoint of a model trained on another task or with another architecture (e.g. initializing a BertForSequenceClassification model from a BertForPreTraining model).\n",
            "- This IS NOT expected if you are initializing BertModel from the checkpoint of a model that you expect to be exactly identical (initializing a BertForSequenceClassification model from a BertForSequenceClassification model).\n"
          ]
        },
        {
          "output_type": "stream",
          "name": "stdout",
          "text": [
            "Epoch: 0, Training Loss: 3490.849792599678, Validation Loss: 772.6774089038372\n",
            "Epoch: 1, Training Loss: 2704.4229949116707, Validation Loss: 781.3041495084763\n",
            "Epoch: 2, Training Loss: 2702.4641447663307, Validation Loss: 781.6398107409477\n",
            "Epoch: 3, Training Loss: 2692.5818601846695, Validation Loss: 784.2163096964359\n",
            "Epoch: 4, Training Loss: 2694.1362499296665, Validation Loss: 781.2470245659351\n",
            "Epoch: 5, Training Loss: 2686.08483299613, Validation Loss: 781.1325662732124\n",
            "Epoch: 6, Training Loss: 2686.5227625370026, Validation Loss: 781.7432138025761\n",
            "Epoch: 7, Training Loss: 2694.3228692412376, Validation Loss: 779.6057243645191\n",
            "Epoch: 8, Training Loss: 2690.9815268218517, Validation Loss: 781.3862345516682\n",
            "Epoch: 9, Training Loss: 2689.037846595049, Validation Loss: 782.2178594172001\n",
            "Epoch: 10, Training Loss: 2689.1144295334816, Validation Loss: 780.0198099911213\n",
            "Epoch: 11, Training Loss: 2684.2662055790424, Validation Loss: 779.3462468087673\n",
            "Epoch: 12, Training Loss: 2688.205097168684, Validation Loss: 779.2060899436474\n",
            "Epoch: 13, Training Loss: 2686.210617184639, Validation Loss: 780.8632993400097\n",
            "Epoch: 14, Training Loss: 2688.4611092805862, Validation Loss: 780.8924576640129\n",
            "Epoch: 15, Training Loss: 2690.671410948038, Validation Loss: 774.9519700109959\n",
            "Epoch: 16, Training Loss: 2684.7650770246983, Validation Loss: 784.2440213561058\n",
            "Epoch: 17, Training Loss: 2686.4270491302013, Validation Loss: 779.6852700412273\n",
            "Epoch: 18, Training Loss: 2682.533901453018, Validation Loss: 778.3396197259426\n",
            "Epoch: 19, Training Loss: 2688.171770721674, Validation Loss: 778.8244332671165\n",
            "Epoch: 20, Training Loss: 2688.4276993870735, Validation Loss: 779.8540517091751\n",
            "Epoch: 21, Training Loss: 2684.8965027332306, Validation Loss: 783.854335218668\n",
            "Epoch: 22, Training Loss: 2684.4037594795227, Validation Loss: 778.061743170023\n",
            "Epoch: 23, Training Loss: 2681.471387386322, Validation Loss: 778.0703317523003\n",
            "Epoch: 24, Training Loss: 2684.437762916088, Validation Loss: 778.7066901624203\n",
            "Epoch: 25, Training Loss: 2687.5617409050465, Validation Loss: 773.3619742691517\n",
            "Epoch: 26, Training Loss: 2687.506610393524, Validation Loss: 776.2351195216179\n",
            "Epoch: 27, Training Loss: 2689.711601048708, Validation Loss: 779.9323827624321\n",
            "Epoch: 28, Training Loss: 2686.0411836504936, Validation Loss: 775.5767154991627\n",
            "Epoch: 29, Training Loss: 2680.667653799057, Validation Loss: 778.9393993318081\n",
            "Epoch: 30, Training Loss: 2680.815635919571, Validation Loss: 778.5567846596241\n"
          ]
        }
      ]
    },
    {
      "cell_type": "code",
      "source": [
        "from sklearn.metrics import classification_report\n",
        "from sklearn.metrics import confusion_matrix\n",
        "v=[]\n",
        "idx=[]\n",
        "for i in preds:\n",
        "    for j in i:\n",
        "        y=j.to('cpu').detach().numpy().copy()\n",
        "        v.append(y)\n",
        "        idx.append(np.argmax(y))\n",
        "\n",
        "cf_matrix = confusion_matrix(test.Sentiment.values, idx)\n",
        "print(\"Confusion Matrix\\n\")\n",
        "sns.heatmap(cf_matrix, annot=True, cmap='Blues', fmt='g')\n",
        "plt.xlabel('Predicted', fontsize=12)\n",
        "plt.ylabel('Actual',fontsize=12)\n",
        "plt.show()\n",
        "\n",
        "lr_report = classification_report(test.Sentiment.values, idx)\n",
        "\n",
        "print(\"\\nClassification Metrics\\n\")\n",
        "print(lr_report)"
      ],
      "metadata": {
        "id": "ByF2dOeNToIw",
        "outputId": "22f9e158-00e4-4206-da83-19245118d7db",
        "colab": {
          "base_uri": "https://localhost:8080/",
          "height": 586
        }
      },
      "execution_count": 30,
      "outputs": [
        {
          "output_type": "stream",
          "name": "stdout",
          "text": [
            "Confusion Matrix\n",
            "\n"
          ]
        },
        {
          "output_type": "display_data",
          "data": {
            "text/plain": [
              "<Figure size 432x288 with 2 Axes>"
            ],
            "image/png": "[encoded data removed]"
          },
          "metadata": {
            "needs_background": "light"
          }
        },
        {
          "output_type": "stream",
          "name": "stdout",
          "text": [
            "\n",
            "Classification Metrics\n",
            "\n",
            "              precision    recall  f1-score   support\n",
            "\n",
            "           0       0.51      0.54      0.52      1414\n",
            "           1       0.55      0.69      0.61      5455\n",
            "           2       0.83      0.72      0.77     15916\n",
            "           3       0.59      0.63      0.61      6586\n",
            "           4       0.54      0.65      0.59      1841\n",
            "\n",
            "    accuracy                           0.68     31212\n",
            "   macro avg       0.61      0.64      0.62     31212\n",
            "weighted avg       0.70      0.68      0.69     31212\n",
            "\n"
          ]
        }
      ]
    },
    {
      "cell_type": "markdown",
      "source": [
        "##Liner "
      ],
      "metadata": {
        "id": "VQAoXLRX3YMV"
      }
    },
    {
      "cell_type": "code",
      "source": [
        "max_epoch = 31\n",
        "train_loss_ = []\n",
        "test_loss_ = []\n",
        "model = CustomBERTModel()\n",
        "model.cuda()\n",
        "\n",
        "pred_list = []\n",
        "preds=[]\n",
        "for epoch in range(max_epoch):\n",
        "    train_ = train_model(model, epoch, add_on=\"linear\")\n",
        "    train_loss_.append(train_)\n",
        "    preds, test_ = valid_model(model, add_on=\"linear\")\n",
        "    pred_list.append(preds)\n",
        "    print(\"Epoch: {}, Training Loss: {}, Validation Loss: {}\".format(epoch, train_, test_))\n",
        "\n",
        "\n",
        "torch.save(model.state_dict(), \"Linear_model.pth\")\n",
        "\n",
        "\n",
        "from sklearn.metrics import classification_report\n",
        "from sklearn.metrics import confusion_matrix\n",
        "v=[]\n",
        "idx=[]\n",
        "for i in preds:\n",
        "    for j in i:\n",
        "        y=j.to('cpu').detach().numpy().copy()\n",
        "        v.append(y)\n",
        "        idx.append(np.argmax(y))\n",
        "\n",
        "cf_matrix = confusion_matrix(test.Sentiment.values, idx)\n",
        "print(\"Confusion Matrix\\n\")\n",
        "sns.heatmap(cf_matrix, annot=True, cmap='Blues', fmt='g')\n",
        "plt.xlabel('Predicted', fontsize=12)\n",
        "plt.ylabel('Actual',fontsize=12)\n",
        "plt.show()\n",
        "\n",
        "lr_report = classification_report(test.Sentiment.values, idx)\n",
        "\n",
        "print(\"\\nClassification Metrics\\n\")\n",
        "print(lr_report)\n",
        "\n",
        "id_df = pd.DataFrame(test.Sentiment.values, columns=['true'])\n",
        "pred_df = pd.DataFrame(idx, columns=['pred'])\n",
        "Submission_df = pd.concat([id_df, pred_df], axis=1)\n",
        "Submission_df.head()\n",
        "\n",
        "Submission_df.to_csv('BERT+Linear.csv', index=False)"
      ],
      "metadata": {
        "colab": {
          "base_uri": "https://localhost:8080/",
          "height": 1000,
          "referenced_widgets": [
            "abc773e3b2d04bcd9094069176b7f983",
            "163228b9de85443396f393cc6b0a5986",
            "55cc8961a87b4e8ba0b5e31e70820d7b",
            "8ad58b47abe4449199e87c18a8e3d45b",
            "cfa1be3968f84a79980575a9a8ad1073",
            "75fb10ecee1948728eb81720b7899324",
            "5bd121baac8241ce9d72f16aa0f186b0",
            "8fd1e05fa893430b8fc4e08cf0928060",
            "ca76852fbd8545e281a57f2cba3154fa",
            "bfc4e547d88444d2bcadf205f1d4a4f3",
            "61f5b70adf724e0aa575eb5e4df302f8"
          ]
        },
        "id": "llXz4O3v3Xad",
        "outputId": "3bb52422-0d83-4785-efe6-90c8447234a6"
      },
      "execution_count": 7,
      "outputs": [
        {
          "output_type": "display_data",
          "data": {
            "text/plain": [
              "Downloading:   0%|          | 0.00/440M [00:00<?, ?B/s]"
            ],
            "application/vnd.jupyter.widget-view+json": {
              "version_major": 2,
              "version_minor": 0,
              "model_id": "abc773e3b2d04bcd9094069176b7f983"
            }
          },
          "metadata": {}
        },
        {
          "output_type": "stream",
          "name": "stderr",
          "text": [
            "Some weights of the model checkpoint at bert-base-uncased were not used when initializing BertModel: ['cls.predictions.transform.LayerNorm.bias', 'cls.seq_relationship.bias', 'cls.predictions.transform.LayerNorm.weight', 'cls.predictions.transform.dense.weight', 'cls.predictions.decoder.weight', 'cls.predictions.transform.dense.bias', 'cls.seq_relationship.weight', 'cls.predictions.bias']\n",
            "- This IS expected if you are initializing BertModel from the checkpoint of a model trained on another task or with another architecture (e.g. initializing a BertForSequenceClassification model from a BertForPreTraining model).\n",
            "- This IS NOT expected if you are initializing BertModel from the checkpoint of a model that you expect to be exactly identical (initializing a BertForSequenceClassification model from a BertForSequenceClassification model).\n"
          ]
        },
        {
          "output_type": "stream",
          "name": "stdout",
          "text": [
            "Epoch: 0, Training Loss: 3367.7909992039204, Validation Loss: 784.0773965716362\n",
            "Epoch: 1, Training Loss: 2684.3321438729763, Validation Loss: 777.7406460344791\n",
            "Epoch: 2, Training Loss: 2672.857094556093, Validation Loss: 778.9503777325153\n",
            "Epoch: 3, Training Loss: 2669.6422431468964, Validation Loss: 779.941468000412\n",
            "Epoch: 4, Training Loss: 2671.0513441860676, Validation Loss: 779.4944198131561\n",
            "Epoch: 5, Training Loss: 2672.7655266821384, Validation Loss: 779.3789431452751\n",
            "Epoch: 6, Training Loss: 2673.8846693336964, Validation Loss: 779.5057361125946\n",
            "Epoch: 7, Training Loss: 2674.285539060831, Validation Loss: 778.9833252429962\n",
            "Epoch: 8, Training Loss: 2669.782598167658, Validation Loss: 777.7324733436108\n",
            "Epoch: 9, Training Loss: 2669.5538488030434, Validation Loss: 780.556158721447\n",
            "Epoch: 10, Training Loss: 2665.9781152009964, Validation Loss: 778.8497868776321\n",
            "Epoch: 11, Training Loss: 2669.5642989575863, Validation Loss: 778.8871302008629\n",
            "Epoch: 12, Training Loss: 2660.533479422331, Validation Loss: 779.1022849678993\n",
            "Epoch: 13, Training Loss: 2672.2259562909603, Validation Loss: 778.4500432908535\n",
            "Epoch: 14, Training Loss: 2671.1327479481697, Validation Loss: 777.5709144175053\n",
            "Epoch: 15, Training Loss: 2672.6217468082905, Validation Loss: 778.802942365408\n",
            "Epoch: 16, Training Loss: 2668.1001847684383, Validation Loss: 779.056160658598\n",
            "Epoch: 17, Training Loss: 2667.6519812345505, Validation Loss: 778.6970518231392\n",
            "Epoch: 18, Training Loss: 2665.2125592827797, Validation Loss: 778.5451856851578\n",
            "Epoch: 19, Training Loss: 2666.4590425789356, Validation Loss: 777.9202072620392\n",
            "Epoch: 20, Training Loss: 2669.227534890175, Validation Loss: 779.0770445466042\n",
            "Epoch: 21, Training Loss: 2669.957389205694, Validation Loss: 778.4317936003208\n",
            "Epoch: 22, Training Loss: 2668.1031923890114, Validation Loss: 777.6882886588573\n",
            "Epoch: 23, Training Loss: 2664.5702371150255, Validation Loss: 778.4418087899685\n",
            "Epoch: 24, Training Loss: 2665.9926908910275, Validation Loss: 778.2764967083931\n",
            "Epoch: 25, Training Loss: 2670.113704353571, Validation Loss: 778.2181455790997\n",
            "Epoch: 26, Training Loss: 2670.110643476248, Validation Loss: 778.1809566915035\n",
            "Epoch: 27, Training Loss: 2664.6498752236366, Validation Loss: 778.1958281993866\n",
            "Epoch: 28, Training Loss: 2669.3570334017277, Validation Loss: 777.8768456876278\n",
            "Epoch: 29, Training Loss: 2665.3922103345394, Validation Loss: 777.6734012663364\n",
            "Epoch: 30, Training Loss: 2666.970357209444, Validation Loss: 777.8332151770592\n",
            "Confusion Matrix\n",
            "\n"
          ]
        },
        {
          "output_type": "display_data",
          "data": {
            "text/plain": [
              "<Figure size 432x288 with 2 Axes>"
            ],
            "image/png": "[encoded data removed]"
          },
          "metadata": {
            "needs_background": "light"
          }
        },
        {
          "output_type": "stream",
          "name": "stdout",
          "text": [
            "\n",
            "Classification Metrics\n",
            "\n",
            "              precision    recall  f1-score   support\n",
            "\n",
            "           0       0.50      0.49      0.50      1414\n",
            "           1       0.55      0.69      0.61      5455\n",
            "           2       0.83      0.72      0.77     15916\n",
            "           3       0.59      0.62      0.60      6586\n",
            "           4       0.54      0.63      0.58      1841\n",
            "\n",
            "    accuracy                           0.68     31212\n",
            "   macro avg       0.60      0.63      0.61     31212\n",
            "weighted avg       0.70      0.68      0.68     31212\n",
            "\n"
          ]
        }
      ]
    },
    {
      "cell_type": "code",
      "source": [
        "max_epoch = 31\n",
        "train_loss_ = []\n",
        "test_loss_ = []\n",
        "model = CustomBERTModel()\n",
        "model.cuda()\n",
        "\n",
        "pred_list = []\n",
        "preds=[]\n",
        "for epoch in range(max_epoch):\n",
        "    train_ = train_model(model, epoch, add_on=\"lstm\", weighted = False)\n",
        "    train_loss_.append(train_)\n",
        "    preds, test_ = valid_model(model, add_on=\"lstm\", weighted = False)\n",
        "    pred_list.append(preds)\n",
        "    print(\"Epoch: {}, Training Loss: {}, Validation Loss: {}\".format(epoch, train_, test_))\n",
        "\n",
        "v=[]\n",
        "idx=[]\n",
        "for i in preds:\n",
        "    for j in i:\n",
        "        y=j.to('cpu').detach().numpy().copy()\n",
        "        v.append(y)\n",
        "        idx.append(np.argmax(y))\n",
        "\n",
        "cf_matrix = confusion_matrix(test.Sentiment.values, idx)\n",
        "print(\"Confusion Matrix\\n\")\n",
        "sns.heatmap(cf_matrix, annot=True, cmap='Blues', fmt='g')\n",
        "plt.xlabel('Predicted', fontsize=12)\n",
        "plt.ylabel('Actual',fontsize=12)\n",
        "plt.show()\n",
        "\n",
        "lr_report = classification_report(test.Sentiment.values, idx)\n",
        "\n",
        "print(\"\\nClassification Metrics\\n\")\n",
        "print(lr_report)\n",
        "\n",
        "id_df = pd.DataFrame(test.Sentiment.values, columns=['true'])\n",
        "pred_df = pd.DataFrame(idx, columns=['pred'])\n",
        "Submission_df = pd.concat([id_df, pred_df], axis=1)\n",
        "Submission_df.head()\n",
        "\n",
        "Submission_df.to_csv('BERT+Linear.csv', index=False)"
      ],
      "metadata": {
        "colab": {
          "base_uri": "https://localhost:8080/"
        },
        "id": "-jZTgxAOslH3",
        "outputId": "6e4f54e3-1234-4456-a861-cf669096c365"
      },
      "execution_count": null,
      "outputs": [
        {
          "output_type": "stream",
          "name": "stderr",
          "text": [
            "Some weights of the model checkpoint at bert-base-uncased were not used when initializing BertModel: ['cls.predictions.bias', 'cls.predictions.decoder.weight', 'cls.predictions.transform.LayerNorm.weight', 'cls.seq_relationship.weight', 'cls.predictions.transform.dense.weight', 'cls.predictions.transform.LayerNorm.bias', 'cls.predictions.transform.dense.bias', 'cls.seq_relationship.bias']\n",
            "- This IS expected if you are initializing BertModel from the checkpoint of a model trained on another task or with another architecture (e.g. initializing a BertForSequenceClassification model from a BertForPreTraining model).\n",
            "- This IS NOT expected if you are initializing BertModel from the checkpoint of a model that you expect to be exactly identical (initializing a BertForSequenceClassification model from a BertForSequenceClassification model).\n"
          ]
        },
        {
          "output_type": "stream",
          "name": "stdout",
          "text": [
            "Epoch: 0, Training Loss: 3475.9192714989185, Validation Loss: 774.384990811348\n",
            "Epoch: 1, Training Loss: 2699.474634438753, Validation Loss: 781.0791279673576\n",
            "Epoch: 2, Training Loss: 2689.2606858611107, Validation Loss: 787.0179260075092\n",
            "Epoch: 3, Training Loss: 2683.688359051943, Validation Loss: 787.1830821931362\n",
            "Epoch: 4, Training Loss: 2682.631347298622, Validation Loss: 786.6551372110844\n",
            "Epoch: 5, Training Loss: 2681.1580915153027, Validation Loss: 784.4574118554592\n",
            "Epoch: 6, Training Loss: 2679.805150747299, Validation Loss: 784.3619524240494\n",
            "Epoch: 7, Training Loss: 2686.789523899555, Validation Loss: 788.9180709719658\n",
            "Epoch: 8, Training Loss: 2687.8325549960136, Validation Loss: 782.8609920740128\n",
            "Epoch: 9, Training Loss: 2683.0109889805317, Validation Loss: 781.5501190125942\n",
            "Epoch: 10, Training Loss: 2678.4922966063023, Validation Loss: 783.7673917710781\n",
            "Epoch: 11, Training Loss: 2676.3639419078827, Validation Loss: 783.3252934515476\n",
            "Epoch: 12, Training Loss: 2676.9528198838234, Validation Loss: 783.5287102758884\n",
            "Epoch: 13, Training Loss: 2682.2739866673946, Validation Loss: 783.7739250659943\n",
            "Epoch: 14, Training Loss: 2679.4552045166492, Validation Loss: 787.5923233032227\n",
            "Epoch: 15, Training Loss: 2685.7925900816917, Validation Loss: 782.1455393433571\n",
            "Epoch: 16, Training Loss: 2680.930805057287, Validation Loss: 782.438374876976\n",
            "Epoch: 17, Training Loss: 2679.2581439316273, Validation Loss: 782.1254294514656\n",
            "Epoch: 18, Training Loss: 2671.4292602837086, Validation Loss: 782.6921157836914\n",
            "Epoch: 19, Training Loss: 2685.207309782505, Validation Loss: 783.0572555065155\n",
            "Epoch: 20, Training Loss: 2681.8474183380604, Validation Loss: 783.330384761095\n",
            "Epoch: 21, Training Loss: 2682.630378037691, Validation Loss: 784.0765285789967\n",
            "Epoch: 22, Training Loss: 2681.6988739073277, Validation Loss: 782.5310272872448\n",
            "Epoch: 23, Training Loss: 2672.629624903202, Validation Loss: 780.8517214655876\n",
            "Epoch: 24, Training Loss: 2679.5126433372498, Validation Loss: 781.315006673336\n",
            "Epoch: 25, Training Loss: 2684.3959459364414, Validation Loss: 782.4976980388165\n",
            "Epoch: 26, Training Loss: 2682.657776415348, Validation Loss: 779.9668723344803\n",
            "Epoch: 27, Training Loss: 2679.971646517515, Validation Loss: 783.1451282799244\n",
            "Epoch: 28, Training Loss: 2676.9477638602257, Validation Loss: 781.8759734034538\n",
            "Epoch: 29, Training Loss: 2676.9517601430416, Validation Loss: 781.5645896196365\n",
            "Epoch: 30, Training Loss: 2675.6999208927155, Validation Loss: 781.5267659127712\n",
            "Confusion Matrix\n",
            "\n"
          ]
        },
        {
          "output_type": "display_data",
          "data": {
            "text/plain": [
              "<Figure size 432x288 with 2 Axes>"
            ],
            "image/png": "[encoded data removed]"
          },
          "metadata": {
            "needs_background": "light"
          }
        },
        {
          "output_type": "stream",
          "name": "stdout",
          "text": [
            "\n",
            "Classification Metrics\n",
            "\n",
            "              precision    recall  f1-score   support\n",
            "\n",
            "           0       0.51      0.51      0.51      1414\n",
            "           1       0.54      0.68      0.60      5455\n",
            "           2       0.82      0.72      0.77     15916\n",
            "           3       0.59      0.62      0.60      6586\n",
            "           4       0.53      0.63      0.58      1841\n",
            "\n",
            "    accuracy                           0.68     31212\n",
            "   macro avg       0.60      0.63      0.61     31212\n",
            "weighted avg       0.69      0.68      0.68     31212\n",
            "\n"
          ]
        }
      ]
    },
    {
      "cell_type": "code",
      "source": [
        "max_epoch = 31\n",
        "train_loss_ = []\n",
        "test_loss_ = []\n",
        "model = CustomBERTModel()\n",
        "model.cuda()\n",
        "\n",
        "pred_list = []\n",
        "preds=[]\n",
        "for epoch in range(max_epoch):\n",
        "    train_ = train_model(model, epoch, add_on=\"linear\", weighted = False)\n",
        "    train_loss_.append(train_)\n",
        "    preds, test_ = valid_model(model, add_on=\"linear\", weighted = False)\n",
        "    pred_list.append(preds)\n",
        "    print(\"Epoch: {}, Training Loss: {}, Validation Loss: {}\".format(epoch, train_, test_))\n",
        "\n",
        "v=[]\n",
        "idx=[]\n",
        "for i in preds:\n",
        "    for j in i:\n",
        "        y=j.to('cpu').detach().numpy().copy()\n",
        "        v.append(y)\n",
        "        idx.append(np.argmax(y))\n",
        "\n",
        "cf_matrix = confusion_matrix(test.Sentiment.values, idx)\n",
        "print(\"Confusion Matrix\\n\")\n",
        "sns.heatmap(cf_matrix, annot=True, cmap='Blues', fmt='g')\n",
        "plt.xlabel('Predicted', fontsize=12)\n",
        "plt.ylabel('Actual',fontsize=12)\n",
        "plt.show()\n",
        "\n",
        "lr_report = classification_report(test.Sentiment.values, idx)\n",
        "\n",
        "print(\"\\nClassification Metrics\\n\")\n",
        "print(lr_report)\n",
        "\n",
        "id_df = pd.DataFrame(test.Sentiment.values, columns=['true'])\n",
        "pred_df = pd.DataFrame(idx, columns=['pred'])\n",
        "Submission_df = pd.concat([id_df, pred_df], axis=1)\n",
        "Submission_df.head()\n",
        "\n",
        "Submission_df.to_csv('BERT+Linear.csv', index=False)"
      ],
      "metadata": {
        "colab": {
          "base_uri": "https://localhost:8080/"
        },
        "id": "kIYPxv4Wsloh",
        "outputId": "a4751d15-7b24-4dba-a837-a102ab5c0e3f"
      },
      "execution_count": null,
      "outputs": [
        {
          "output_type": "stream",
          "name": "stderr",
          "text": [
            "Some weights of the model checkpoint at bert-base-uncased were not used when initializing BertModel: ['cls.predictions.bias', 'cls.predictions.decoder.weight', 'cls.predictions.transform.LayerNorm.weight', 'cls.seq_relationship.weight', 'cls.predictions.transform.dense.weight', 'cls.predictions.transform.LayerNorm.bias', 'cls.predictions.transform.dense.bias', 'cls.seq_relationship.bias']\n",
            "- This IS expected if you are initializing BertModel from the checkpoint of a model trained on another task or with another architecture (e.g. initializing a BertForSequenceClassification model from a BertForPreTraining model).\n",
            "- This IS NOT expected if you are initializing BertModel from the checkpoint of a model that you expect to be exactly identical (initializing a BertForSequenceClassification model from a BertForSequenceClassification model).\n"
          ]
        },
        {
          "output_type": "stream",
          "name": "stdout",
          "text": [
            "Epoch: 0, Training Loss: 3101.9273144304752, Validation Loss: 706.9892759621143\n",
            "Epoch: 1, Training Loss: 2469.09191814065, Validation Loss: 721.1106939911842\n",
            "Epoch: 2, Training Loss: 2464.9325243085623, Validation Loss: 718.0783407390118\n",
            "Epoch: 3, Training Loss: 2460.613792926073, Validation Loss: 719.2750425338745\n",
            "Epoch: 4, Training Loss: 2460.434380531311, Validation Loss: 719.1873587071896\n",
            "Epoch: 5, Training Loss: 2458.9444582015276, Validation Loss: 719.0341478586197\n",
            "Epoch: 6, Training Loss: 2459.5474953353405, Validation Loss: 718.7526479959488\n",
            "Epoch: 7, Training Loss: 2460.7782364934683, Validation Loss: 719.5747478604317\n",
            "Epoch: 8, Training Loss: 2456.922312170267, Validation Loss: 720.2050676345825\n",
            "Epoch: 9, Training Loss: 2459.957531452179, Validation Loss: 718.4292905330658\n",
            "Epoch: 10, Training Loss: 2457.017953157425, Validation Loss: 717.9160916209221\n",
            "Epoch: 11, Training Loss: 2453.023136675358, Validation Loss: 718.2988543212414\n",
            "Epoch: 12, Training Loss: 2453.845438718796, Validation Loss: 718.2578303515911\n",
            "Epoch: 13, Training Loss: 2458.22031340003, Validation Loss: 718.2519338726997\n",
            "Epoch: 14, Training Loss: 2458.2484949827194, Validation Loss: 717.7184724211693\n",
            "Epoch: 15, Training Loss: 2456.6129118800163, Validation Loss: 718.4445894360542\n",
            "Epoch: 16, Training Loss: 2457.4519610106945, Validation Loss: 718.0825265944004\n",
            "Epoch: 17, Training Loss: 2453.3315031528473, Validation Loss: 718.1216185986996\n",
            "Epoch: 18, Training Loss: 2455.4408634603024, Validation Loss: 718.0209193825722\n",
            "Epoch: 19, Training Loss: 2456.0916007757187, Validation Loss: 716.9442085623741\n",
            "Epoch: 20, Training Loss: 2457.201387554407, Validation Loss: 718.5874063968658\n",
            "Epoch: 21, Training Loss: 2455.448278605938, Validation Loss: 718.4253254532814\n",
            "Epoch: 22, Training Loss: 2455.8221692740917, Validation Loss: 717.8168377876282\n",
            "Epoch: 23, Training Loss: 2456.3339612782, Validation Loss: 717.4386990368366\n",
            "Epoch: 24, Training Loss: 2457.8548797667027, Validation Loss: 717.4237633645535\n",
            "Epoch: 25, Training Loss: 2454.9653207063675, Validation Loss: 716.4269046485424\n",
            "Epoch: 26, Training Loss: 2456.004808753729, Validation Loss: 717.6759209632874\n",
            "Epoch: 27, Training Loss: 2458.0389860868454, Validation Loss: 717.0086597204208\n",
            "Epoch: 28, Training Loss: 2458.435476720333, Validation Loss: 717.245733499527\n",
            "Epoch: 29, Training Loss: 2456.228953897953, Validation Loss: 716.7973558604717\n",
            "Epoch: 30, Training Loss: 2454.2756621539593, Validation Loss: 716.8310374617577\n",
            "Confusion Matrix\n",
            "\n"
          ]
        },
        {
          "output_type": "display_data",
          "data": {
            "text/plain": [
              "<Figure size 432x288 with 2 Axes>"
            ],
            "image/png": "[encoded data removed]"
          },
          "metadata": {
            "needs_background": "light"
          }
        },
        {
          "output_type": "stream",
          "name": "stdout",
          "text": [
            "\n",
            "Classification Metrics\n",
            "\n",
            "              precision    recall  f1-score   support\n",
            "\n",
            "           0       0.52      0.47      0.49      1414\n",
            "           1       0.58      0.62      0.60      5455\n",
            "           2       0.79      0.79      0.79     15916\n",
            "           3       0.63      0.59      0.61      6586\n",
            "           4       0.56      0.60      0.58      1841\n",
            "\n",
            "    accuracy                           0.69     31212\n",
            "   macro avg       0.62      0.61      0.61     31212\n",
            "weighted avg       0.69      0.69      0.69     31212\n",
            "\n"
          ]
        }
      ]
    }
  ]
}