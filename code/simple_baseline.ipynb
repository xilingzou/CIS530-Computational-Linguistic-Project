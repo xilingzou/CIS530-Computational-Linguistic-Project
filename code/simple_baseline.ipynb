{
  "nbformat": 4,
  "nbformat_minor": 0,
  "metadata": {
    "colab": {
      "provenance": []
    },
    "kernelspec": {
      "name": "python3",
      "display_name": "Python 3"
    },
    "language_info": {
      "name": "python"
    }
  },
  "cells": [
    {
      "cell_type": "code",
      "execution_count": null,
      "metadata": {
        "id": "iY6Yfs7x-2CN"
      },
      "outputs": [],
      "source": [
        "import pandas as pd\n",
        "import numpy as np\n",
        "import seaborn as sns\n",
        "import matplotlib.pyplot as plt\n",
        "import re\n",
        "\n",
        "from sklearn.linear_model import LogisticRegression \n",
        "from sklearn.metrics import accuracy_score, confusion_matrix"
      ]
    },
    {
      "cell_type": "code",
      "source": [
        "# pre-processing\n",
        "def preprocess(phrases):\n",
        "  processed_phrases = []\n",
        "  for s in range(0, len(phrases)):\n",
        "    # remove tags\n",
        "    processed = re.sub(r'<.*?>', ' ', str(phrases[s]))\n",
        "    # remove special characters\n",
        "    processed = re.sub(r'[^a-zA-Z0-9]',' ',processed)\n",
        "    # remove extra spaces\n",
        "    processed = re.sub(r'\\s+', ' ', processed, flags=re.I)\n",
        "    # remove numbers \n",
        "    processed = re.sub(r'\\w*\\d\\w*', '', processed)\n",
        "    # to lowercase\n",
        "    processed = processed.lower()\n",
        "    processed_phrases.append(processed)\n",
        "  return processed_phrases\n"
      ],
      "metadata": {
        "id": "bUfLLnVmdThT"
      },
      "execution_count": null,
      "outputs": []
    },
    {
      "cell_type": "code",
      "source": [
        "# Bag-of-words features\n",
        "from sklearn.feature_extraction.text import CountVectorizer\n",
        "def get_features(train_phrase, dev_phrase, test_phrase):\n",
        "  count_vec = CountVectorizer()\n",
        "  count_vec.fit(train_phrase)\n",
        "  print(\"Vocabulary size: %d\" % len(count_vec.get_feature_names()))\n",
        "  x_train = count_vec.transform(train_phrase)\n",
        "  x_dev = count_vec.transform(dev_phrase)\n",
        "  x_test = count_vec.transform(test_phrase)\n",
        "  return x_train, x_dev, x_test"
      ],
      "metadata": {
        "id": "m997CZPDfI-I"
      },
      "execution_count": null,
      "outputs": []
    },
    {
      "cell_type": "code",
      "source": [
        "# load data\n",
        "from google.colab import drive\n",
        "drive.mount('/content/drive')\n",
        "train = pd.read_csv('/content/drive/MyDrive/df_train.csv', sep=\",\")\n",
        "test = pd.read_csv('/content/drive/MyDrive/df_dev.csv', sep=\",\")\n",
        "dev = pd.read_csv('/content/drive/MyDrive/df_dev.csv', sep=\",\")"
      ],
      "metadata": {
        "colab": {
          "base_uri": "https://localhost:8080/"
        },
        "id": "jpG-0wdiA95r",
        "outputId": "fa123b1c-8b46-4215-9b46-656722621561"
      },
      "execution_count": null,
      "outputs": [
        {
          "output_type": "stream",
          "name": "stdout",
          "text": [
            "Mounted at /content/drive\n"
          ]
        }
      ]
    },
    {
      "cell_type": "code",
      "source": [
        "train.head(10)"
      ],
      "metadata": {
        "colab": {
          "base_uri": "https://localhost:8080/",
          "height": 363
        },
        "id": "MxDwgQq0CD9v",
        "outputId": "6fdb3905-9909-4e4e-bc5e-846ea8f6cbf4"
      },
      "execution_count": null,
      "outputs": [
        {
          "output_type": "execute_result",
          "data": {
            "text/plain": [
              "   Unnamed: 0  PhraseId  SentenceId  \\\n",
              "0       25259     25260        1153   \n",
              "1      101894    101895        5363   \n",
              "2       12380     12381         530   \n",
              "3       13188     13189         566   \n",
              "4       79711     79712        4104   \n",
              "5      126318    126319        6790   \n",
              "6      114213    114214        6073   \n",
              "7       95446     95447        4985   \n",
              "8      111084    111085        5887   \n",
              "9      137364    137365        7432   \n",
              "\n",
              "                                              Phrase  Sentiment  \n",
              "0                                               gold          3  \n",
              "1                            you could change tables          3  \n",
              "2                      of the best films of the year          4  \n",
              "3                                         sustain it          2  \n",
              "4                                 stunning star turn          4  \n",
              "5  , Laissez-passer has all the earmarks of Frenc...          4  \n",
              "6                                              Merry          3  \n",
              "7  ... ` The Country Bears ' should never have be...          1  \n",
              "8  the failure of the third Revenge of the Nerds ...          1  \n",
              "9                      use of his particular talents          3  "
            ],
            "text/html": [
              "\n",
              "  <div id=\"df-2bf8d00c-19a2-4a56-b757-a135f0566daf\">\n",
              "    <div class=\"colab-df-container\">\n",
              "      <div>\n",
              "<style scoped>\n",
              "    .dataframe tbody tr th:only-of-type {\n",
              "        vertical-align: middle;\n",
              "    }\n",
              "\n",
              "    .dataframe tbody tr th {\n",
              "        vertical-align: top;\n",
              "    }\n",
              "\n",
              "    .dataframe thead th {\n",
              "        text-align: right;\n",
              "    }\n",
              "</style>\n",
              "<table border=\"1\" class=\"dataframe\">\n",
              "  <thead>\n",
              "    <tr style=\"text-align: right;\">\n",
              "      <th></th>\n",
              "      <th>Unnamed: 0</th>\n",
              "      <th>PhraseId</th>\n",
              "      <th>SentenceId</th>\n",
              "      <th>Phrase</th>\n",
              "      <th>Sentiment</th>\n",
              "    </tr>\n",
              "  </thead>\n",
              "  <tbody>\n",
              "    <tr>\n",
              "      <th>0</th>\n",
              "      <td>25259</td>\n",
              "      <td>25260</td>\n",
              "      <td>1153</td>\n",
              "      <td>gold</td>\n",
              "      <td>3</td>\n",
              "    </tr>\n",
              "    <tr>\n",
              "      <th>1</th>\n",
              "      <td>101894</td>\n",
              "      <td>101895</td>\n",
              "      <td>5363</td>\n",
              "      <td>you could change tables</td>\n",
              "      <td>3</td>\n",
              "    </tr>\n",
              "    <tr>\n",
              "      <th>2</th>\n",
              "      <td>12380</td>\n",
              "      <td>12381</td>\n",
              "      <td>530</td>\n",
              "      <td>of the best films of the year</td>\n",
              "      <td>4</td>\n",
              "    </tr>\n",
              "    <tr>\n",
              "      <th>3</th>\n",
              "      <td>13188</td>\n",
              "      <td>13189</td>\n",
              "      <td>566</td>\n",
              "      <td>sustain it</td>\n",
              "      <td>2</td>\n",
              "    </tr>\n",
              "    <tr>\n",
              "      <th>4</th>\n",
              "      <td>79711</td>\n",
              "      <td>79712</td>\n",
              "      <td>4104</td>\n",
              "      <td>stunning star turn</td>\n",
              "      <td>4</td>\n",
              "    </tr>\n",
              "    <tr>\n",
              "      <th>5</th>\n",
              "      <td>126318</td>\n",
              "      <td>126319</td>\n",
              "      <td>6790</td>\n",
              "      <td>, Laissez-passer has all the earmarks of Frenc...</td>\n",
              "      <td>4</td>\n",
              "    </tr>\n",
              "    <tr>\n",
              "      <th>6</th>\n",
              "      <td>114213</td>\n",
              "      <td>114214</td>\n",
              "      <td>6073</td>\n",
              "      <td>Merry</td>\n",
              "      <td>3</td>\n",
              "    </tr>\n",
              "    <tr>\n",
              "      <th>7</th>\n",
              "      <td>95446</td>\n",
              "      <td>95447</td>\n",
              "      <td>4985</td>\n",
              "      <td>... ` The Country Bears ' should never have be...</td>\n",
              "      <td>1</td>\n",
              "    </tr>\n",
              "    <tr>\n",
              "      <th>8</th>\n",
              "      <td>111084</td>\n",
              "      <td>111085</td>\n",
              "      <td>5887</td>\n",
              "      <td>the failure of the third Revenge of the Nerds ...</td>\n",
              "      <td>1</td>\n",
              "    </tr>\n",
              "    <tr>\n",
              "      <th>9</th>\n",
              "      <td>137364</td>\n",
              "      <td>137365</td>\n",
              "      <td>7432</td>\n",
              "      <td>use of his particular talents</td>\n",
              "      <td>3</td>\n",
              "    </tr>\n",
              "  </tbody>\n",
              "</table>\n",
              "</div>\n",
              "      <button class=\"colab-df-convert\" onclick=\"convertToInteractive('df-2bf8d00c-19a2-4a56-b757-a135f0566daf')\"\n",
              "              title=\"Convert this dataframe to an interactive table.\"\n",
              "              style=\"display:none;\">\n",
              "        \n",
              "  <svg xmlns=\"http://www.w3.org/2000/svg\" height=\"24px\"viewBox=\"0 0 24 24\"\n",
              "       width=\"24px\">\n",
              "    <path d=\"M0 0h24v24H0V0z\" fill=\"none\"/>\n",
              "    <path d=\"M18.56 5.44l.94 2.06.94-2.06 2.06-.94-2.06-.94-.94-2.06-.94 2.06-2.06.94zm-11 1L8.5 8.5l.94-2.06 2.06-.94-2.06-.94L8.5 2.5l-.94 2.06-2.06.94zm10 10l.94 2.06.94-2.06 2.06-.94-2.06-.94-.94-2.06-.94 2.06-2.06.94z\"/><path d=\"M17.41 7.96l-1.37-1.37c-.4-.4-.92-.59-1.43-.59-.52 0-1.04.2-1.43.59L10.3 9.45l-7.72 7.72c-.78.78-.78 2.05 0 2.83L4 21.41c.39.39.9.59 1.41.59.51 0 1.02-.2 1.41-.59l7.78-7.78 2.81-2.81c.8-.78.8-2.07 0-2.86zM5.41 20L4 18.59l7.72-7.72 1.47 1.35L5.41 20z\"/>\n",
              "  </svg>\n",
              "      </button>\n",
              "      \n",
              "  <style>\n",
              "    .colab-df-container {\n",
              "      display:flex;\n",
              "      flex-wrap:wrap;\n",
              "      gap: 12px;\n",
              "    }\n",
              "\n",
              "    .colab-df-convert {\n",
              "      background-color: #E8F0FE;\n",
              "      border: none;\n",
              "      border-radius: 50%;\n",
              "      cursor: pointer;\n",
              "      display: none;\n",
              "      fill: #1967D2;\n",
              "      height: 32px;\n",
              "      padding: 0 0 0 0;\n",
              "      width: 32px;\n",
              "    }\n",
              "\n",
              "    .colab-df-convert:hover {\n",
              "      background-color: #E2EBFA;\n",
              "      box-shadow: 0px 1px 2px rgba(60, 64, 67, 0.3), 0px 1px 3px 1px rgba(60, 64, 67, 0.15);\n",
              "      fill: #174EA6;\n",
              "    }\n",
              "\n",
              "    [theme=dark] .colab-df-convert {\n",
              "      background-color: #3B4455;\n",
              "      fill: #D2E3FC;\n",
              "    }\n",
              "\n",
              "    [theme=dark] .colab-df-convert:hover {\n",
              "      background-color: #434B5C;\n",
              "      box-shadow: 0px 1px 3px 1px rgba(0, 0, 0, 0.15);\n",
              "      filter: drop-shadow(0px 1px 2px rgba(0, 0, 0, 0.3));\n",
              "      fill: #FFFFFF;\n",
              "    }\n",
              "  </style>\n",
              "\n",
              "      <script>\n",
              "        const buttonEl =\n",
              "          document.querySelector('#df-2bf8d00c-19a2-4a56-b757-a135f0566daf button.colab-df-convert');\n",
              "        buttonEl.style.display =\n",
              "          google.colab.kernel.accessAllowed ? 'block' : 'none';\n",
              "\n",
              "        async function convertToInteractive(key) {\n",
              "          const element = document.querySelector('#df-2bf8d00c-19a2-4a56-b757-a135f0566daf');\n",
              "          const dataTable =\n",
              "            await google.colab.kernel.invokeFunction('convertToInteractive',\n",
              "                                                     [key], {});\n",
              "          if (!dataTable) return;\n",
              "\n",
              "          const docLinkHtml = 'Like what you see? Visit the ' +\n",
              "            '<a target=\"_blank\" href=https://colab.research.google.com/notebooks/data_table.ipynb>data table notebook</a>'\n",
              "            + ' to learn more about interactive tables.';\n",
              "          element.innerHTML = '';\n",
              "          dataTable['output_type'] = 'display_data';\n",
              "          await google.colab.output.renderOutput(dataTable, element);\n",
              "          const docLink = document.createElement('div');\n",
              "          docLink.innerHTML = docLinkHtml;\n",
              "          element.appendChild(docLink);\n",
              "        }\n",
              "      </script>\n",
              "    </div>\n",
              "  </div>\n",
              "  "
            ]
          },
          "metadata": {},
          "execution_count": 9
        }
      ]
    },
    {
      "cell_type": "code",
      "source": [
        "train.groupby('Sentiment').Phrase.count().plot.bar()"
      ],
      "metadata": {
        "colab": {
          "base_uri": "https://localhost:8080/",
          "height": 294
        },
        "id": "Q0F_-YcwCbMX",
        "outputId": "99cf2174-355d-41e1-d8f3-6d6cd18eb62b"
      },
      "execution_count": null,
      "outputs": [
        {
          "output_type": "execute_result",
          "data": {
            "text/plain": [
              "<matplotlib.axes._subplots.AxesSubplot at 0x7f6e7f9442e0>"
            ]
          },
          "metadata": {},
          "execution_count": 10
        },
        {
          "output_type": "display_data",
          "data": {
            "text/plain": [
              "<Figure size 432x288 with 1 Axes>"
            ],
            "image/png": "[encoded data removed]"
          },
          "metadata": {
            "needs_background": "light"
          }
        }
      ]
    },
    {
      "cell_type": "code",
      "source": [
        "cleaned_train = preprocess(train['Phrase'])\n",
        "cleaned_dev = preprocess(dev['Phrase'])\n",
        "cleaned_test = preprocess(test['Phrase'])\n",
        "\n",
        "# get features\n",
        "x_train, x_dev, x_test = get_features(cleaned_train, cleaned_dev, cleaned_test)\n",
        "\n",
        "# labels\n",
        "y_train = train['Sentiment']\n",
        "y_dev = dev['Sentiment']"
      ],
      "metadata": {
        "colab": {
          "base_uri": "https://localhost:8080/"
        },
        "id": "RyesgaLAgtSd",
        "outputId": "cf3c5fc4-7f7d-4fdf-9292-dabbe14d3e46"
      },
      "execution_count": null,
      "outputs": [
        {
          "output_type": "stream",
          "name": "stderr",
          "text": [
            "/usr/local/lib/python3.8/dist-packages/sklearn/utils/deprecation.py:87: FutureWarning: Function get_feature_names is deprecated; get_feature_names is deprecated in 1.0 and will be removed in 1.2. Please use get_feature_names_out instead.\n",
            "  warnings.warn(msg, category=FutureWarning)\n"
          ]
        },
        {
          "output_type": "stream",
          "name": "stdout",
          "text": [
            "Vocabulary size: 15082\n"
          ]
        }
      ]
    },
    {
      "cell_type": "code",
      "source": [
        "def find_best_C(x_train, y_train, x_dev, y_dev, C_vals):\n",
        "  # find the best C from C_vals using the development data\n",
        "  best_acc = 0.\n",
        "  best_c = 0.\n",
        "  accuracy = []\n",
        "  for c in C_vals:\n",
        "    lr = LogisticRegression(C=c,multi_class='auto', solver='liblinear')\n",
        "    lr.fit(x_train, y_train)\n",
        "    cur_acc = accuracy_score(y_dev, lr.predict(x_dev))\n",
        "    print (\"Accuracy for C = %s: %s\" % (c, cur_acc))\n",
        "    accuracy.append(cur_acc)\n",
        "    if cur_acc > best_acc:\n",
        "      best_c = c\n",
        "      best_acc = cur_acc\n",
        "  \n",
        "  print(\"Best accuracy = %f, best C = %f\" % (best_acc, best_c))\n",
        "  plt.plot(np.array(C_vals).astype('str'), accuracy, 'ro')\n",
        "  return best_c\n"
      ],
      "metadata": {
        "id": "UbfDc3fIhqPg"
      },
      "execution_count": null,
      "outputs": []
    },
    {
      "cell_type": "code",
      "source": [
        "C_vals = [0.10, 0.3, 0.5, 0.7, 0.9, 1.1, 1.5, 2.0, 2.5, 3.0]\n",
        "best_c = find_best_C(x_train, y_train, x_dev, y_dev, C_vals)\n",
        "best_c"
      ],
      "metadata": {
        "colab": {
          "base_uri": "https://localhost:8080/",
          "height": 482
        },
        "id": "sYZK8cWBl67h",
        "outputId": "a84c6b1d-0d25-45c0-8d06-b648e90729fb"
      },
      "execution_count": null,
      "outputs": [
        {
          "output_type": "stream",
          "name": "stdout",
          "text": [
            "Accuracy for C = 0.1: 0.5983916442393951\n",
            "Accuracy for C = 0.3: 0.6200179418172498\n",
            "Accuracy for C = 0.5: 0.6281237985390234\n",
            "Accuracy for C = 0.7: 0.632320902217096\n",
            "Accuracy for C = 0.9: 0.6350442137639369\n",
            "Accuracy for C = 1.1: 0.6372549019607843\n",
            "Accuracy for C = 1.5: 0.6392092784826349\n",
            "Accuracy for C = 2.0: 0.6411316160451108\n",
            "Accuracy for C = 2.5: 0.6419966679482251\n",
            "Accuracy for C = 3.0: 0.6419966679482251\n",
            "Best accuracy = 0.641997, best C = 2.500000\n"
          ]
        },
        {
          "output_type": "execute_result",
          "data": {
            "text/plain": [
              "2.5"
            ]
          },
          "metadata": {},
          "execution_count": 13
        },
        {
          "output_type": "display_data",
          "data": {
            "text/plain": [
              "<Figure size 432x288 with 1 Axes>"
            ],
            "image/png": "[encoded data removed]"
          },
          "metadata": {
            "needs_background": "light"
          }
        }
      ]
    },
    {
      "cell_type": "code",
      "source": [
        "# Evaluate on the development data\n",
        "from sklearn.metrics import classification_report\n",
        "from sklearn.metrics import confusion_matrix\n",
        "\n",
        "lr_clf = LogisticRegression(C=best_c)\n",
        "lr_clf.fit(x_train, y_train)\n",
        "y_pred = lr_clf.predict(x_dev)\n",
        "\n",
        "# save\n",
        "pd.DataFrame(y_pred).to_csv('lr_dev_pred.csv', sep='\\t', encoding='utf-8')\n",
        "\n",
        "# training accuracy\n",
        "print(\"The training accuracy is {}\".format(lr_clf.score(x_train, y_train)))\n",
        "\n",
        "# Calculate and plot confusion matrix\n",
        "cf_matrix = confusion_matrix(y_dev, y_pred)\n",
        "\n",
        "print(\"Confusion Matrix\\n\")\n",
        "sns.heatmap(cf_matrix, annot=True, cmap='Blues', fmt='g')\n",
        "plt.xlabel('Predicted', fontsize=12)\n",
        "plt.ylabel('Actual',fontsize=12)\n",
        "plt.show()\n",
        "\n",
        "# Report classification metrics\n",
        "lr_report = classification_report(y_dev, y_pred)\n",
        "\n",
        "print(\"\\nClassification Metrics\\n\")\n",
        "print(lr_report)"
      ],
      "metadata": {
        "colab": {
          "base_uri": "https://localhost:8080/",
          "height": 752
        },
        "id": "w360Bt3MoqPx",
        "outputId": "aa0ca7e4-1e78-454b-ac74-1c17881301e4"
      },
      "execution_count": null,
      "outputs": [
        {
          "output_type": "stream",
          "name": "stderr",
          "text": [
            "/usr/local/lib/python3.8/dist-packages/sklearn/linear_model/_logistic.py:814: ConvergenceWarning: lbfgs failed to converge (status=1):\n",
            "STOP: TOTAL NO. of ITERATIONS REACHED LIMIT.\n",
            "\n",
            "Increase the number of iterations (max_iter) or scale the data as shown in:\n",
            "    https://scikit-learn.org/stable/modules/preprocessing.html\n",
            "Please also refer to the documentation for alternative solver options:\n",
            "    https://scikit-learn.org/stable/modules/linear_model.html#logistic-regression\n",
            "  n_iter_i = _check_optimize_result(\n"
          ]
        },
        {
          "output_type": "stream",
          "name": "stdout",
          "text": [
            "The training accuracy is 0.7107282455465846\n",
            "Confusion Matrix\n",
            "\n"
          ]
        },
        {
          "output_type": "display_data",
          "data": {
            "text/plain": [
              "<Figure size 432x288 with 2 Axes>"
            ],
            "image/png": "[encoded data removed]"
          },
          "metadata": {
            "needs_background": "light"
          }
        },
        {
          "output_type": "stream",
          "name": "stdout",
          "text": [
            "\n",
            "Classification Metrics\n",
            "\n",
            "              precision    recall  f1-score   support\n",
            "\n",
            "           0       0.49      0.33      0.39      1414\n",
            "           1       0.55      0.39      0.45      5455\n",
            "           2       0.69      0.86      0.77     15916\n",
            "           3       0.57      0.47      0.52      6586\n",
            "           4       0.55      0.36      0.43      1841\n",
            "\n",
            "    accuracy                           0.64     31212\n",
            "   macro avg       0.57      0.48      0.51     31212\n",
            "weighted avg       0.62      0.64      0.62     31212\n",
            "\n"
          ]
        }
      ]
    },
    {
      "cell_type": "code",
      "source": [
        "# sample output\n",
        "def get_sample(n):\n",
        "  \"\"\"\n",
        "  Return n samples of phrases, true sentiment labels and predictions on development data \n",
        "  \"\"\"\n",
        "  dev_sample = dev[['Phrase','Sentiment']].copy()\n",
        "  dev_sample['prediction'] = y_pred\n",
        "  display(dev_sample.sample(n=n))\n",
        "get_sample(5)"
      ],
      "metadata": {
        "colab": {
          "base_uri": "https://localhost:8080/",
          "height": 206
        },
        "id": "fcIjNRTVyTFF",
        "outputId": "b0744b6f-3b00-4305-bf69-d7be72f6df13"
      },
      "execution_count": null,
      "outputs": [
        {
          "output_type": "display_data",
          "data": {
            "text/plain": [
              "                                                  Phrase  Sentiment  \\\n",
              "3019                              becomes claustrophobic          1   \n",
              "25062                    transparently hypocritical work          1   \n",
              "4341   Sodden and glum , even in those moments where ...          1   \n",
              "22202    the script , which has a handful of smart jokes          3   \n",
              "4037                               a little too familiar          1   \n",
              "\n",
              "       prediction  \n",
              "3019            1  \n",
              "25062           1  \n",
              "4341            1  \n",
              "22202           3  \n",
              "4037            2  "
            ],
            "text/html": [
              "\n",
              "  <div id=\"df-861da94d-920e-4d2f-b90e-eebf1d1e3425\">\n",
              "    <div class=\"colab-df-container\">\n",
              "      <div>\n",
              "<style scoped>\n",
              "    .dataframe tbody tr th:only-of-type {\n",
              "        vertical-align: middle;\n",
              "    }\n",
              "\n",
              "    .dataframe tbody tr th {\n",
              "        vertical-align: top;\n",
              "    }\n",
              "\n",
              "    .dataframe thead th {\n",
              "        text-align: right;\n",
              "    }\n",
              "</style>\n",
              "<table border=\"1\" class=\"dataframe\">\n",
              "  <thead>\n",
              "    <tr style=\"text-align: right;\">\n",
              "      <th></th>\n",
              "      <th>Phrase</th>\n",
              "      <th>Sentiment</th>\n",
              "      <th>prediction</th>\n",
              "    </tr>\n",
              "  </thead>\n",
              "  <tbody>\n",
              "    <tr>\n",
              "      <th>3019</th>\n",
              "      <td>becomes claustrophobic</td>\n",
              "      <td>1</td>\n",
              "      <td>1</td>\n",
              "    </tr>\n",
              "    <tr>\n",
              "      <th>25062</th>\n",
              "      <td>transparently hypocritical work</td>\n",
              "      <td>1</td>\n",
              "      <td>1</td>\n",
              "    </tr>\n",
              "    <tr>\n",
              "      <th>4341</th>\n",
              "      <td>Sodden and glum , even in those moments where ...</td>\n",
              "      <td>1</td>\n",
              "      <td>1</td>\n",
              "    </tr>\n",
              "    <tr>\n",
              "      <th>22202</th>\n",
              "      <td>the script , which has a handful of smart jokes</td>\n",
              "      <td>3</td>\n",
              "      <td>3</td>\n",
              "    </tr>\n",
              "    <tr>\n",
              "      <th>4037</th>\n",
              "      <td>a little too familiar</td>\n",
              "      <td>1</td>\n",
              "      <td>2</td>\n",
              "    </tr>\n",
              "  </tbody>\n",
              "</table>\n",
              "</div>\n",
              "      <button class=\"colab-df-convert\" onclick=\"convertToInteractive('df-861da94d-920e-4d2f-b90e-eebf1d1e3425')\"\n",
              "              title=\"Convert this dataframe to an interactive table.\"\n",
              "              style=\"display:none;\">\n",
              "        \n",
              "  <svg xmlns=\"http://www.w3.org/2000/svg\" height=\"24px\"viewBox=\"0 0 24 24\"\n",
              "       width=\"24px\">\n",
              "    <path d=\"M0 0h24v24H0V0z\" fill=\"none\"/>\n",
              "    <path d=\"M18.56 5.44l.94 2.06.94-2.06 2.06-.94-2.06-.94-.94-2.06-.94 2.06-2.06.94zm-11 1L8.5 8.5l.94-2.06 2.06-.94-2.06-.94L8.5 2.5l-.94 2.06-2.06.94zm10 10l.94 2.06.94-2.06 2.06-.94-2.06-.94-.94-2.06-.94 2.06-2.06.94z\"/><path d=\"M17.41 7.96l-1.37-1.37c-.4-.4-.92-.59-1.43-.59-.52 0-1.04.2-1.43.59L10.3 9.45l-7.72 7.72c-.78.78-.78 2.05 0 2.83L4 21.41c.39.39.9.59 1.41.59.51 0 1.02-.2 1.41-.59l7.78-7.78 2.81-2.81c.8-.78.8-2.07 0-2.86zM5.41 20L4 18.59l7.72-7.72 1.47 1.35L5.41 20z\"/>\n",
              "  </svg>\n",
              "      </button>\n",
              "      \n",
              "  <style>\n",
              "    .colab-df-container {\n",
              "      display:flex;\n",
              "      flex-wrap:wrap;\n",
              "      gap: 12px;\n",
              "    }\n",
              "\n",
              "    .colab-df-convert {\n",
              "      background-color: #E8F0FE;\n",
              "      border: none;\n",
              "      border-radius: 50%;\n",
              "      cursor: pointer;\n",
              "      display: none;\n",
              "      fill: #1967D2;\n",
              "      height: 32px;\n",
              "      padding: 0 0 0 0;\n",
              "      width: 32px;\n",
              "    }\n",
              "\n",
              "    .colab-df-convert:hover {\n",
              "      background-color: #E2EBFA;\n",
              "      box-shadow: 0px 1px 2px rgba(60, 64, 67, 0.3), 0px 1px 3px 1px rgba(60, 64, 67, 0.15);\n",
              "      fill: #174EA6;\n",
              "    }\n",
              "\n",
              "    [theme=dark] .colab-df-convert {\n",
              "      background-color: #3B4455;\n",
              "      fill: #D2E3FC;\n",
              "    }\n",
              "\n",
              "    [theme=dark] .colab-df-convert:hover {\n",
              "      background-color: #434B5C;\n",
              "      box-shadow: 0px 1px 3px 1px rgba(0, 0, 0, 0.15);\n",
              "      filter: drop-shadow(0px 1px 2px rgba(0, 0, 0, 0.3));\n",
              "      fill: #FFFFFF;\n",
              "    }\n",
              "  </style>\n",
              "\n",
              "      <script>\n",
              "        const buttonEl =\n",
              "          document.querySelector('#df-861da94d-920e-4d2f-b90e-eebf1d1e3425 button.colab-df-convert');\n",
              "        buttonEl.style.display =\n",
              "          google.colab.kernel.accessAllowed ? 'block' : 'none';\n",
              "\n",
              "        async function convertToInteractive(key) {\n",
              "          const element = document.querySelector('#df-861da94d-920e-4d2f-b90e-eebf1d1e3425');\n",
              "          const dataTable =\n",
              "            await google.colab.kernel.invokeFunction('convertToInteractive',\n",
              "                                                     [key], {});\n",
              "          if (!dataTable) return;\n",
              "\n",
              "          const docLinkHtml = 'Like what you see? Visit the ' +\n",
              "            '<a target=\"_blank\" href=https://colab.research.google.com/notebooks/data_table.ipynb>data table notebook</a>'\n",
              "            + ' to learn more about interactive tables.';\n",
              "          element.innerHTML = '';\n",
              "          dataTable['output_type'] = 'display_data';\n",
              "          await google.colab.output.renderOutput(dataTable, element);\n",
              "          const docLink = document.createElement('div');\n",
              "          docLink.innerHTML = docLinkHtml;\n",
              "          element.appendChild(docLink);\n",
              "        }\n",
              "      </script>\n",
              "    </div>\n",
              "  </div>\n",
              "  "
            ]
          },
          "metadata": {}
        }
      ]
    },
    {
      "cell_type": "code",
      "source": [
        "# predict on test data\n",
        "y_pred_test = lr_clf.predict(x_test)"
      ],
      "metadata": {
        "id": "onwsgCovqEqX"
      },
      "execution_count": null,
      "outputs": []
    }
  ]
}